{
 "cells": [
  {
   "cell_type": "code",
   "execution_count": 5,
   "metadata": {},
   "outputs": [],
   "source": [
    "import mxnet as mx\n",
    "from mxnet import ndarray as nd\n",
    "from mxnet.gluon import nn\n",
    "from mxnet import gluon"
   ]
  },
  {
   "cell_type": "code",
   "execution_count": 6,
   "metadata": {
    "collapsed": true
   },
   "outputs": [],
   "source": [
    "net = nn.Sequential()\n",
    "with net.name_scope():\n",
    "    net.add(\n",
    "        #layer 1\n",
    "        nn.Conv2D(channels=96,kernel_size=11,strides=4,activation=\"relu\"),\n",
    "        nn.MaxPool2D(pool_size=3,strides=2),\n",
    "        #layer 2\n",
    "        nn.Conv2D(channels=256,kernel_size=5,padding=2,activation=\"relu\"),\n",
    "        nn.MaxPool2D(pool_size=3,strides=2),\n",
    "        #layer 3\n",
    "        nn.Conv2D(channels=384,kernel_size=3,padding=1,activation=\"relu\"),\n",
    "        nn.Conv2D(channels=384,kernel_size=3,padding=1,activation=\"relu\"),\n",
    "        nn.Conv2D(channels=256,kernel_size=3,padding=1,activation=\"relu\"),\n",
    "        nn.MaxPool2D(pool_size=3,strides=2),\n",
    "        #layer 4\n",
    "        nn.Flatten(),\n",
    "        nn.Dense(4096,activation=\"relu\"),\n",
    "        nn.Dropout(.5),\n",
    "        #layer 5\n",
    "        nn.Dense(4096,activation=\"relu\"),\n",
    "        nn.Dropout(.5),\n",
    "        #layer 6\n",
    "        nn.Dense(10),\n",
    "    )"
   ]
  },
  {
   "cell_type": "code",
   "execution_count": 11,
   "metadata": {},
   "outputs": [
    {
     "name": "stderr",
     "output_type": "stream",
     "text": [
      "/home/wk/anaconda3/lib/python3.6/site-packages/mxnet/gluon/data/vision.py:118: DeprecationWarning: The binary mode of fromstring is deprecated, as it behaves surprisingly on unicode inputs. Use frombuffer instead\n",
      "  label = np.fromstring(fin.read(), dtype=np.uint8).astype(np.int32)\n",
      "/home/wk/anaconda3/lib/python3.6/site-packages/mxnet/gluon/data/vision.py:122: DeprecationWarning: The binary mode of fromstring is deprecated, as it behaves surprisingly on unicode inputs. Use frombuffer instead\n",
      "  data = np.fromstring(fin.read(), dtype=np.uint8)\n"
     ]
    },
    {
     "ename": "AttributeError",
     "evalue": "'DataLoader' object has no attribute 'as_in_context'",
     "output_type": "error",
     "traceback": [
      "\u001b[0;31m---------------------------------------------------------------------------\u001b[0m",
      "\u001b[0;31mAttributeError\u001b[0m                            Traceback (most recent call last)",
      "\u001b[0;32m<ipython-input-11-33ac8d4ec65b>\u001b[0m in \u001b[0;36m<module>\u001b[0;34m()\u001b[0m\n\u001b[1;32m      2\u001b[0m \u001b[0;32mfrom\u001b[0m \u001b[0mmxnet\u001b[0m\u001b[0;34m.\u001b[0m\u001b[0mimage\u001b[0m \u001b[0;32mimport\u001b[0m  \u001b[0mImageDetIter\u001b[0m\u001b[0;34m\u001b[0m\u001b[0m\n\u001b[1;32m      3\u001b[0m \u001b[0mtrain_data\u001b[0m\u001b[0;34m,\u001b[0m \u001b[0mtest_data\u001b[0m \u001b[0;34m=\u001b[0m \u001b[0mutils1\u001b[0m\u001b[0;34m.\u001b[0m\u001b[0mload_data_fashion_mnist\u001b[0m\u001b[0;34m(\u001b[0m\u001b[0mbatch_size\u001b[0m\u001b[0;34m=\u001b[0m\u001b[0;36m256\u001b[0m\u001b[0;34m,\u001b[0m\u001b[0mresize\u001b[0m\u001b[0;34m=\u001b[0m\u001b[0;36m224\u001b[0m\u001b[0;34m)\u001b[0m\u001b[0;34m\u001b[0m\u001b[0m\n\u001b[0;32m----> 4\u001b[0;31m \u001b[0mtrain_data2\u001b[0m \u001b[0;34m=\u001b[0m \u001b[0mtrain_data\u001b[0m\u001b[0;34m.\u001b[0m\u001b[0mas_in_context\u001b[0m\u001b[0;34m(\u001b[0m\u001b[0;34m)\u001b[0m\u001b[0;34m\u001b[0m\u001b[0m\n\u001b[0m\u001b[1;32m      5\u001b[0m \u001b[0;31m# ImageDetIter.reshape(train_data,label_shape=(3, 5))\u001b[0m\u001b[0;34m\u001b[0m\u001b[0;34m\u001b[0m\u001b[0m\n\u001b[1;32m      6\u001b[0m \u001b[0;31m# valid_data.sync_label_shape(train_data)\u001b[0m\u001b[0;34m\u001b[0m\u001b[0;34m\u001b[0m\u001b[0m\n",
      "\u001b[0;31mAttributeError\u001b[0m: 'DataLoader' object has no attribute 'as_in_context'"
     ]
    }
   ],
   "source": [
    "import utils1\n",
    "from mxnet.image import ImageDetIter\n",
    "train_data, test_data = utils1.load_data_fashion_mnist(batch_size=256,resize=224)\n",
    "\n",
    "train_data.reshape(label_shape=(3, 5))\n",
    "valid_data.sync_label_shape(train_data)"
   ]
  },
  {
   "cell_type": "code",
   "execution_count": null,
   "metadata": {},
   "outputs": [
    {
     "data": {
      "text/plain": [
       "gpu(0)"
      ]
     },
     "execution_count": 6,
     "metadata": {},
     "output_type": "execute_result"
    }
   ],
   "source": [
    "from mxnet import init\n",
    "from mxnet import gluon\n",
    "ctx = utils1.try_gpu()\n",
    "net.initialize(ctx=ctx)\n",
    "ctx"
   ]
  },
  {
   "cell_type": "code",
   "execution_count": null,
   "metadata": {},
   "outputs": [],
   "source": [
    "loss = gluon.loss.SoftmaxCrossEntropyLoss()\n",
    "trainer = gluon.Trainer(net.collect_params(),\n",
    "                        'sgd', {'learning_rate': 0.01})\n",
    "utils1.train(train_data, test_data, net, loss,\n",
    "            trainer, ctx, num_epochs=1)"
   ]
  },
  {
   "cell_type": "code",
   "execution_count": null,
   "metadata": {
    "collapsed": true
   },
   "outputs": [],
   "source": [
    "import random\n",
    "random.seed(998)\n",
    "input_array = nd.array([[3., 0.5,  -0.5,  2., 7.],\n",
    "                    [2., -0.4,   7.,  3., 0.2]])\n",
    "a = mx.symbol.Variable('a')\n",
    "dropout = mx.symbol.Dropout(a, p = 0.2)\n",
    "executor = dropout.simple_bind(ctx = mx.cpu(),a = input_array.shape)\n",
    "executor.forward(is_train = True, a = input_array)\n",
    "executor.outputs\n",
    "b = mx.symbol.Variable('b')\n",
    "c=a+b\n",
    "type(c)\n",
    "e = c.bind(mx.cpu(),{'a':nd.array([1,2]),'b':nd.array([33,4])})\n",
    "e.forward()"
   ]
  },
  {
   "cell_type": "code",
   "execution_count": null,
   "metadata": {
    "collapsed": true
   },
   "outputs": [],
   "source": []
  }
 ],
 "metadata": {
  "kernelspec": {
   "display_name": "Python 3",
   "language": "python",
   "name": "python3"
  },
  "language_info": {
   "codemirror_mode": {
    "name": "ipython",
    "version": 3
   },
   "file_extension": ".py",
   "mimetype": "text/x-python",
   "name": "python",
   "nbconvert_exporter": "python",
   "pygments_lexer": "ipython3",
   "version": "3.6.3"
  }
 },
 "nbformat": 4,
 "nbformat_minor": 2
}
