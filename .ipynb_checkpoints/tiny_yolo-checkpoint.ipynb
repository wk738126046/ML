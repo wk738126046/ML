{
 "cells": [
  {
   "cell_type": "code",
   "execution_count": 1,
   "metadata": {},
   "outputs": [],
   "source": [
    "from mxnet import gluon\n",
    "from mxnet import ndarray as nd\n",
    "from mxnet.gluon import nn\n",
    "import mxnet"
   ]
  },
  {
   "cell_type": "code",
   "execution_count": 2,
   "metadata": {},
   "outputs": [
    {
     "data": {
      "text/plain": [
       "'1.1.0'"
      ]
     },
     "execution_count": 2,
     "metadata": {},
     "output_type": "execute_result"
    }
   ],
   "source": [
    "mxnet.__version__"
   ]
  },
  {
   "cell_type": "code",
   "execution_count": 3,
   "metadata": {},
   "outputs": [],
   "source": [
    "class tiny_yolo(nn.Block):\n",
    "    def __init__(self,num_classes,verbose = False,**kwargs):\n",
    "        super(tiny_yolo,self).__init__(**kwargs)\n",
    "        self.verbose = verbose\n",
    "        self.net = nn.Sequential()\n",
    "        with self.name_scope():\n",
    "            #0-1 layer\n",
    "            net1 = nn.Sequential()\n",
    "            net1.add(\n",
    "                nn.Conv2D(16,kernel_size=3,padding=1),\n",
    "                nn.BatchNorm(),\n",
    "                nn.Activation('relu'),\n",
    "                nn.MaxPool2D(pool_size=2,strides=2)\n",
    "            )\n",
    "            #2-3 layer\n",
    "            net2 = nn.Sequential()\n",
    "            net2.add(\n",
    "                nn.Conv2D(32,kernel_size=3,padding=1),\n",
    "                nn.BatchNorm(),\n",
    "                nn.Activation('relu'),\n",
    "                nn.MaxPool2D(pool_size=2,strides=2)\n",
    "            )\n",
    "            #4-5 layer\n",
    "            net3 = nn.Sequential()\n",
    "            net3.add(\n",
    "                nn.Conv2D(64,kernel_size=3,padding=1),\n",
    "                nn.BatchNorm(),\n",
    "                nn.Activation('relu'),\n",
    "                nn.MaxPool2D(pool_size=2,strides=2)\n",
    "            )\n",
    "            #6-7 layer\n",
    "            net4 = nn.Sequential()\n",
    "            net4.add(\n",
    "                nn.Conv2D(128,kernel_size=3,padding=1),\n",
    "                nn.BatchNorm(),\n",
    "                nn.Activation('relu'),\n",
    "                nn.MaxPool2D(pool_size=2,strides=2)\n",
    "            )\n",
    "            #8-9 layer\n",
    "            net5 = nn.Sequential()\n",
    "            net5.add(\n",
    "                nn.Conv2D(256,kernel_size=3,padding=1),\n",
    "                nn.BatchNorm(),\n",
    "                nn.Activation('relu'),\n",
    "                nn.MaxPool2D(pool_size=2,strides=2)\n",
    "            )\n",
    "            #10-11 layer\n",
    "            net6 = nn.Sequential()\n",
    "            net6.add(\n",
    "                nn.Conv2D(512,kernel_size=3,padding=1),\n",
    "                nn.BatchNorm(),\n",
    "                nn.Activation('relu'),\n",
    "                nn.MaxPool2D(pool_size=2,strides=1)\n",
    "            )\n",
    "            #12-14\n",
    "            net7 = nn.Sequential()\n",
    "            net7.add(\n",
    "                nn.Conv2D(1024,kernel_size=3,padding=1,activation='relu'),\n",
    "                nn.BatchNorm(),\n",
    "                nn.Conv2D(512,kernel_size=3,padding=1,activation='relu'),\n",
    "                nn.BatchNorm(),\n",
    "#                 nn.Conv2D(5*(num_classes+5),kernel_size=1)\n",
    "                nn.Conv2D(num_classes,kernel_size=1)\n",
    "#                 nn.Dense(5*(num_classes+5))\n",
    "            )\n",
    "            self.net = nn.Sequential()\n",
    "            self.net.add(net1,net2,net3,net4,net5,net6,net7)\n",
    "    \n",
    "    def forward(self,x):\n",
    "        out = x\n",
    "        for i,b in enumerate(self.net):\n",
    "            out = b(out)\n",
    "            if self.verbose:\n",
    "                print('block %d shape: %s'%(i+1,out.shape))\n",
    "        return out\n",
    "            "
   ]
  },
  {
   "cell_type": "code",
   "execution_count": null,
   "metadata": {},
   "outputs": [],
   "source": []
  },
  {
   "cell_type": "code",
   "execution_count": 4,
   "metadata": {},
   "outputs": [
    {
     "name": "stdout",
     "output_type": "stream",
     "text": [
      "block 1 shape: (4, 16, 208, 208)\n",
      "block 2 shape: (4, 32, 104, 104)\n",
      "block 3 shape: (4, 64, 52, 52)\n",
      "block 4 shape: (4, 128, 26, 26)\n",
      "block 5 shape: (4, 256, 13, 13)\n",
      "block 6 shape: (4, 512, 12, 12)\n",
      "block 7 shape: (4, 3, 12, 12)\n"
     ]
    },
    {
     "data": {
      "text/plain": [
       "(4, 3, 12, 12)"
      ]
     },
     "execution_count": 4,
     "metadata": {},
     "output_type": "execute_result"
    }
   ],
   "source": [
    "net = tiny_yolo(3,True)\n",
    "net.initialize()\n",
    "x = nd.random.uniform(shape=(4,3,416,416))\n",
    "y = net(x)\n",
    "y.shape"
   ]
  },
  {
   "cell_type": "code",
   "execution_count": 5,
   "metadata": {},
   "outputs": [],
   "source": [
    "import utils1\n",
    "from mxnet import init\n",
    "train_data, test_data = utils1.load_data_fashion_mnist(batch_size=16,resize=96)\n",
    "ctx = utils1.try_gpu()\n",
    "# ctx\n",
    "net = tiny_yolo(10)\n",
    "net.initialize(ctx=ctx,init=init.Xavier())\n",
    "loss = gluon.loss.SoftmaxCrossEntropyLoss()\n",
    "trainer = gluon.Trainer(net.collect_params(),'sgd',{'learning_rate':0.03})\n",
    "# trainer = gluon.Trainer(net.collect_params(),'sgd',{'learning_rate':0.05})\n",
    "# train_data.dataset[:]\n",
    "\n"
   ]
  },
  {
   "cell_type": "code",
   "execution_count": 6,
   "metadata": {},
   "outputs": [],
   "source": [
    "# utils1.train(train_data,test_data,net,loss,trainer,ctx,num_epochs=2)"
   ]
  },
  {
   "cell_type": "code",
   "execution_count": null,
   "metadata": {},
   "outputs": [],
   "source": []
  },
  {
   "cell_type": "code",
   "execution_count": 7,
   "metadata": {},
   "outputs": [],
   "source": [
    "class mydense(nn.Block):\n",
    "    def __init__(self,units,in_units,**kwargs):\n",
    "        super(mydense,self).__init__(**kwargs)\n",
    "        with self.name_scope():\n",
    "            self.weight = self.params.get('weight',shape=(in_units,units))\n",
    "            self.bais = self.params.get('bais',shape=(units,))\n",
    "    def forward(self,x):\n",
    "        linear = nd.dot(x,self.weight.data())+self.bais.data()\n",
    "        return nd.relu(linear)\n",
    "            "
   ]
  },
  {
   "cell_type": "code",
   "execution_count": 8,
   "metadata": {},
   "outputs": [
    {
     "data": {
      "text/plain": [
       "o_my_dense_ (\n",
       "  Parameter o_my_dense_weight (shape=(10, 5), dtype=<class 'numpy.float32'>)\n",
       "  Parameter o_my_dense_bais (shape=(5,), dtype=<class 'numpy.float32'>)\n",
       ")"
      ]
     },
     "execution_count": 8,
     "metadata": {},
     "output_type": "execute_result"
    }
   ],
   "source": [
    "dense = mydense(5, in_units=10, prefix='o_my_dense_')\n",
    "dense.params\n"
   ]
  },
  {
   "cell_type": "code",
   "execution_count": 13,
   "metadata": {},
   "outputs": [
    {
     "data": {
      "text/plain": [
       "\n",
       "[[  0.   3.  12.]\n",
       " [  3.  16.  35.]\n",
       " [ 12.  35.  64.]]\n",
       "<NDArray 3x3 @cpu(0)>"
      ]
     },
     "execution_count": 13,
     "metadata": {},
     "output_type": "execute_result"
    }
   ],
   "source": [
    "x = nd.arange(9).reshape((3,3))\n",
    "s = x.T*x\n",
    "s"
   ]
  },
  {
   "cell_type": "code",
   "execution_count": 17,
   "metadata": {},
   "outputs": [
    {
     "data": {
      "text/plain": [
       "array([[  0.,   3.,  12.],\n",
       "       [  3.,  16.,  35.],\n",
       "       [ 12.,  35.,  64.]], dtype=float32)"
      ]
     },
     "execution_count": 17,
     "metadata": {},
     "output_type": "execute_result"
    }
   ],
   "source": [
    "snp = s.asnumpy()\n",
    "snp\n",
    "\n"
   ]
  },
  {
   "cell_type": "code",
   "execution_count": 25,
   "metadata": {},
   "outputs": [
    {
     "ename": "AttributeError",
     "evalue": "'numpy.ndarray' object has no attribute 'I'",
     "output_type": "error",
     "traceback": [
      "\u001b[0;31m---------------------------------------------------------------------------\u001b[0m",
      "\u001b[0;31mAttributeError\u001b[0m                            Traceback (most recent call last)",
      "\u001b[0;32m<ipython-input-25-b3f461b61b31>\u001b[0m in \u001b[0;36m<module>\u001b[0;34m()\u001b[0m\n\u001b[1;32m      1\u001b[0m \u001b[0;32mfrom\u001b[0m \u001b[0mnumpy\u001b[0m \u001b[0;32mimport\u001b[0m \u001b[0;34m*\u001b[0m\u001b[0;34m\u001b[0m\u001b[0m\n\u001b[0;32m----> 2\u001b[0;31m \u001b[0msnp\u001b[0m\u001b[0;34m.\u001b[0m\u001b[0mI\u001b[0m\u001b[0;34m\u001b[0m\u001b[0m\n\u001b[0m\u001b[1;32m      3\u001b[0m \u001b[0;34m\u001b[0m\u001b[0m\n",
      "\u001b[0;31mAttributeError\u001b[0m: 'numpy.ndarray' object has no attribute 'I'"
     ]
    }
   ],
   "source": [
    "from numpy import *\n",
    "snp.I\n",
    "\n"
   ]
  },
  {
   "cell_type": "code",
   "execution_count": null,
   "metadata": {},
   "outputs": [],
   "source": []
  },
  {
   "cell_type": "code",
   "execution_count": null,
   "metadata": {},
   "outputs": [],
   "source": []
  }
 ],
 "metadata": {
  "kernelspec": {
   "display_name": "Python 2",
   "language": "python",
   "name": "python2"
  },
  "language_info": {
   "codemirror_mode": {
    "name": "ipython",
    "version": 3
   },
   "file_extension": ".py",
   "mimetype": "text/x-python",
   "name": "python",
   "nbconvert_exporter": "python",
   "pygments_lexer": "ipython3",
   "version": "3.6.4"
  }
 },
 "nbformat": 4,
 "nbformat_minor": 2
}
