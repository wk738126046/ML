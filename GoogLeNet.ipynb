{
 "cells": [
  {
   "cell_type": "code",
   "execution_count": 55,
   "metadata": {},
   "outputs": [],
   "source": [
    "import mxnet as mx\n",
    "from mxnet import nd\n",
    "from mxnet.gluon import nn"
   ]
  },
  {
   "cell_type": "code",
   "execution_count": 56,
   "metadata": {},
   "outputs": [],
   "source": [
    "class Inception(nn.Block):\n",
    "    def __init__(self,n1_1,n2_1,n2_3,n3_1,n3_5,n4_1,**kwargs):\n",
    "        super(Inception,self).__init__(**kwargs)\n",
    "        self.p1_con_1 = nn.Conv2D(n1_1,kernel_size=1,activation=\"relu\")\n",
    "        \n",
    "        self.p2_con_1 = nn.Conv2D(n2_1,kernel_size=1,activation=\"relu\")\n",
    "        self.p2_con_3 = nn.Conv2D(n2_3,kernel_size=3,padding=1,activation=\"relu\")\n",
    "        \n",
    "        self.p3_con_1 = nn.Conv2D(n3_1,kernel_size=1,activation=\"relu\")\n",
    "        self.p3_con_5  = nn.Conv2D(n3_5,kernel_size=5,padding=2,activation=\"relu\")\n",
    "        \n",
    "        self.p4_maxpool = nn.MaxPool2D(pool_size=3,padding=1,strides=1)\n",
    "        self.p4_con_1 = nn.Conv2D(n4_1,kernel_size=1,activation=\"relu\")\n",
    "        \n",
    "    def forward(self,x):\n",
    "        p1 = self.p1_con_1(x)\n",
    "        p2 = self.p2_con_3(self.p2_con_1(x))\n",
    "        p3 = self.p3_con_5(self.p3_con_1(x))\n",
    "        p4 = self.p4_con_1(self.p4_maxpool(x))\n",
    "        \n",
    "        return nd.concat(p1,p2,p3,p4,dim=1)\n",
    "        "
   ]
  },
  {
   "cell_type": "code",
   "execution_count": 57,
   "metadata": {},
   "outputs": [
    {
     "data": {
      "text/plain": [
       "(32, 256, 64, 64)"
      ]
     },
     "execution_count": 57,
     "metadata": {},
     "output_type": "execute_result"
    }
   ],
   "source": [
    "incp = Inception(64, 96, 128, 16, 32, 32)\n",
    "incp.initialize()\n",
    "\n",
    "x = nd.random.uniform(shape=(32,3,64,64))\n",
    "incp(x).shape"
   ]
  },
  {
   "cell_type": "code",
   "execution_count": 58,
   "metadata": {},
   "outputs": [
    {
     "data": {
      "text/plain": [
       "(256, 480, 28, 28)"
      ]
     },
     "execution_count": 58,
     "metadata": {},
     "output_type": "execute_result"
    }
   ],
   "source": [
    "a = Inception(128,64,192,64,96,64)\n",
    "a.initialize()\n",
    "x = nd.random.uniform(shape=(256,3,28,28))\n",
    "a(x).shape"
   ]
  },
  {
   "cell_type": "code",
   "execution_count": 70,
   "metadata": {},
   "outputs": [],
   "source": [
    "class googleNet(nn.Block):\n",
    "    def __init__(self,num_classes,verbose=False,**kwargs):\n",
    "        super(googleNet,self).__init__(**kwargs)\n",
    "        self.verbose = verbose\n",
    "        with self.name_scope():\n",
    "            b1 = nn.Sequential()\n",
    "            b1.add(\n",
    "                nn.Conv2D(64,kernel_size=7,strides=2,padding=3,activation=\"relu\"),\n",
    "                nn.MaxPool2D(pool_size=3,strides=2)\n",
    "            )\n",
    "            b2 = nn.Sequential()\n",
    "            b2.add(\n",
    "                nn.Conv2D(64,kernel_size=1,activation=\"relu\"),\n",
    "                nn.Conv2D(192,kernel_size=3,padding=1,activation=\"relu\"),\n",
    "                nn.MaxPool2D(pool_size=3,strides=2)\n",
    "            )\n",
    "            b3 = nn.Sequential()\n",
    "            b3.add(\n",
    "                Inception(64,96,128,16,32,32),\n",
    "                Inception(128,128,192,32,96,64),\n",
    "                nn.MaxPool2D(pool_size=3,strides=2)\n",
    "                  )\n",
    "            b4 = nn.Sequential()\n",
    "            b4.add(\n",
    "                Inception(192,96,208,16,48,64),\n",
    "                Inception(160,112,224,24,64,64),\n",
    "                Inception(128,128,256,24,64,64),\n",
    "                Inception(112,144,288,32,64,64),\n",
    "                Inception(256,160,320,32,128,128),\n",
    "                nn.MaxPool2D(pool_size=3,strides=2)\n",
    "            )\n",
    "            b5= nn.Sequential()\n",
    "            b5.add(\n",
    "                Inception(256,160,320,32,128,128),\n",
    "                Inception(384,192,384,48,128,128),\n",
    "                nn.AvgPool2D(pool_size=2)\n",
    "            )\n",
    "            b6 = nn.Sequential()\n",
    "            b6.add(\n",
    "                nn.Flatten(),\n",
    "                nn.Dense(num_classes,activation=\"relu\")\n",
    "            )\n",
    "            #chain block\n",
    "            self.b= nn.Sequential()\n",
    "            self.b.add(b1,b2,b3,b4,b5,b6)\n",
    "            \n",
    "    def forward(self,x):\n",
    "        out = x \n",
    "        for i,value in enumerate(self.b):\n",
    "            out = value(out)\n",
    "            if self.verbose:\n",
    "                 print('Block %d output: %s'%(i+1, out.shape))\n",
    "        return out"
   ]
  },
  {
   "cell_type": "code",
   "execution_count": 71,
   "metadata": {},
   "outputs": [
    {
     "name": "stdout",
     "output_type": "stream",
     "text": [
      "Block 1 output: (4, 64, 23, 23)\n",
      "Block 2 output: (4, 192, 11, 11)\n",
      "Block 3 output: (4, 480, 5, 5)\n",
      "Block 4 output: (4, 832, 2, 2)\n",
      "Block 5 output: (4, 1024, 1, 1)\n",
      "Block 6 output: (4, 10)\n"
     ]
    }
   ],
   "source": [
    "net = googleNet(10,verbose=True)\n",
    "net.initialize()\n",
    "\n",
    "x = nd.random.uniform(shape=(4, 3, 96, 96))\n",
    "y = net(x)"
   ]
  },
  {
   "cell_type": "code",
   "execution_count": 75,
   "metadata": {},
   "outputs": [],
   "source": [
    "import sys\n",
    "sys.path.append('./')\n",
    "import utils1\n",
    "from mxnet import gluon\n",
    "from mxnet import init\n",
    "\n",
    "train_data, test_data = utils1.load_data_fashion_mnist(\n",
    "    batch_size=64, resize=96)\n",
    "\n",
    "ctx = utils1.try_gpu()\n",
    "net = googleNet(10)\n",
    "net.initialize(ctx=ctx, init=init.Xavier())\n",
    "\n",
    "loss = gluon.loss.SoftmaxCrossEntropyLoss()\n",
    "trainer = gluon.Trainer(net.collect_params(),\n",
    "                        'sgd', {'learning_rate': 0.01})\n",
    "\n"
   ]
  },
  {
   "cell_type": "code",
   "execution_count": 77,
   "metadata": {},
   "outputs": [
    {
     "name": "stdout",
     "output_type": "stream",
     "text": [
      "Start training on  gpu(0)\n",
      "Epoch 0. Loss: 2.297, Train acc 0.23, Test acc 0.26, Time 116.6 sec\n",
      "Epoch 1. Loss: 2.181, Train acc 0.30, Test acc 0.41, Time 115.3 sec\n"
     ]
    }
   ],
   "source": [
    "utils1.train(train_data, test_data, net, loss,trainer, ctx, num_epochs=2)"
   ]
  },
  {
   "cell_type": "code",
   "execution_count": null,
   "metadata": {},
   "outputs": [],
   "source": []
  },
  {
   "cell_type": "code",
   "execution_count": null,
   "metadata": {},
   "outputs": [],
   "source": []
  }
 ],
 "metadata": {
  "kernelspec": {
   "display_name": "Python 3",
   "language": "python",
   "name": "python3"
  },
  "language_info": {
   "codemirror_mode": {
    "name": "ipython",
    "version": 3
   },
   "file_extension": ".py",
   "mimetype": "text/x-python",
   "name": "python",
   "nbconvert_exporter": "python",
   "pygments_lexer": "ipython3",
   "version": "3.6.4"
  }
 },
 "nbformat": 4,
 "nbformat_minor": 2
}
