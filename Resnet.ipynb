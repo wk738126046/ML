{
 "cells": [
  {
   "cell_type": "code",
   "execution_count": 1,
   "metadata": {},
   "outputs": [],
   "source": [
    "from mxnet import ndarray as nd\n",
    "from mxnet.gluon import nn\n",
    "from mxnet import autograd"
   ]
  },
  {
   "cell_type": "code",
   "execution_count": 2,
   "metadata": {},
   "outputs": [],
   "source": [
    "# define residual block\n",
    "class Residual(nn.Block):\n",
    "    def __init__(self, channels, same_shape = True,**kwargs):\n",
    "        super(Residual,self).__init__(**kwargs)\n",
    "        self.same_shape = same_shape\n",
    "        self.stride = 1 if same_shape else 2\n",
    "        self.conv1 = nn.Conv2D(channels,kernel_size=3,padding=1,strides=self.stride)\n",
    "        self.bn1 = nn.BatchNorm()\n",
    "        \n",
    "        self.conv2 = nn.Conv2D(channels,kernel_size=3,padding=1)\n",
    "        self.bn2 = nn.BatchNorm()\n",
    "        \n",
    "        if not same_shape:\n",
    "            self.conv3 = nn.Conv2D(channels,kernel_size=1,strides=self.stride)\n",
    "        \n",
    "    def forward(self,x):\n",
    "        out1 = nd.relu(self.bn1(self.conv1(x)))\n",
    "        out2 = self.bn2(self.conv2(out1))\n",
    "        if not self.same_shape:\n",
    "            x = self.conv3(x)\n",
    "        return nd.relu(out2 + x)\n",
    "    \n",
    "\n",
    "    "
   ]
  },
  {
   "cell_type": "code",
   "execution_count": 3,
   "metadata": {},
   "outputs": [
    {
     "data": {
      "text/plain": [
       "(4, 8, 3, 3)"
      ]
     },
     "execution_count": 3,
     "metadata": {},
     "output_type": "execute_result"
    }
   ],
   "source": [
    "block = Residual(8,False)\n",
    "block.initialize()\n",
    "x = nd.random.uniform(shape=(4,3,6,6))\n",
    "y = block(x)\n",
    "y.shape"
   ]
  },
  {
   "cell_type": "code",
   "execution_count": 27,
   "metadata": {},
   "outputs": [],
   "source": [
    "\n",
    "class ResidualProposed(nn.Block):\n",
    "    def __init__(self,channels,same_shape=True,**kwargs):\n",
    "        super(ResidualProposed,self).__init__(**kwargs)\n",
    "        self.same_shape = same_shape\n",
    "        self.stride = 1 if self.same_shape else 2\n",
    "        self.bn1 = nn.BatchNorm()\n",
    "        self.conv1 = nn.Conv2D(channels,kernel_size=3,padding=1,strides=self.stride)\n",
    "        \n",
    "        self.bn2 = nn.BatchNorm()\n",
    "        self.conv2 = nn.Conv2D(channels, kernel_size=3,padding=1)\n",
    "        if not self.same_shape:\n",
    "            self.conv3 = nn.Conv2D(channels,kernel_size=1,strides=self.stride)\n",
    "        \n",
    "    def forward(self,x):\n",
    "        out = self.conv1(nd.relu(self.bn1(x)))\n",
    "        out = self.conv2(nd.relu(self.bn2(out)))\n",
    "        if not self.same_shape:\n",
    "            x = self.conv3(x)\n",
    "        return nd.relu(out + x)\n",
    "            "
   ]
  },
  {
   "cell_type": "code",
   "execution_count": 29,
   "metadata": {},
   "outputs": [
    {
     "name": "stdout",
     "output_type": "stream",
     "text": [
      "(4, 64, 6, 6)\n"
     ]
    }
   ],
   "source": [
    "# block = ResidualProposed(128,False)\n",
    "block = ResidualProposed(64)\n",
    "block\n",
    "block.initialize()\n",
    "x = nd.random.uniform(shape=(4,64,6,6))\n",
    "print(y.shape)"
   ]
  },
  {
   "cell_type": "code",
   "execution_count": 4,
   "metadata": {},
   "outputs": [],
   "source": [
    "class Residual3(nn.Block):\n",
    "    def __init__(self, in_channels, out_channels,same_shape = True,**kwargs):\n",
    "        super(Residual3,self).__init__(**kwargs)\n",
    "        self.same_shape = same_shape\n",
    "        self.stride = 1 if self.same_shape else 2\n",
    "        #论文中每个块都是全尺寸输出，如果改变输入channel则尺寸需要减半\n",
    "        self.conv1 = nn.Conv2D(in_channels,kernel_size=1,strides=self.stride)\n",
    "        self.bn1 = nn.BatchNorm()\n",
    "        \n",
    "        self.conv2 = nn.Conv2D(in_channels,kernel_size=3,padding=1)\n",
    "        self.bn2 = nn.BatchNorm()\n",
    "        \n",
    "        self.conv3 = nn.Conv2D(out_channels,kernel_size=1,strides=1)\n",
    "        self.bn3 = nn.BatchNorm()\n",
    "        #如果size减半，则需要将原始的输入x的通道变成新的输出channel，并且size减半\n",
    "        if not self.same_shape:\n",
    "            self.conv4_1 = nn.Conv2D(out_channels,kernel_size=1,strides=self.stride)\n",
    "        else:\n",
    "            self.conv4 = nn.Conv2D(out_channels,kernel_size=1)\n",
    "        \n",
    "    def forward(self,x):\n",
    "        out1 = nd.relu(self.bn1(self.conv1(x)))\n",
    "        out2 = nd.relu(self.bn2(self.conv2(out1)))\n",
    "        out3 = self.bn3(self.conv3(out2))\n",
    "#         print(out3.shape)\n",
    "        if not self.same_shape:\n",
    "            x = self.conv4_1(x)\n",
    "        else:\n",
    "            x = self.conv4(x)\n",
    "        return nd.relu(out3 + x)"
   ]
  },
  {
   "cell_type": "code",
   "execution_count": 5,
   "metadata": {},
   "outputs": [
    {
     "name": "stdout",
     "output_type": "stream",
     "text": [
      "(4, 512, 3, 3)\n"
     ]
    }
   ],
   "source": [
    "block = Residual3(128,512,False)\n",
    "# block = Residual3(64,256)\n",
    "block\n",
    "block.initialize()\n",
    "x = nd.random.uniform(shape=(4,64,6,6))\n",
    "y = block(x)\n",
    "print(y.shape)\n"
   ]
  },
  {
   "cell_type": "code",
   "execution_count": 6,
   "metadata": {},
   "outputs": [],
   "source": [
    "class Resnet50(nn.Block):\n",
    "    def __init__(self,num_classes,verbose=False,**kwargs):\n",
    "        super(Resnet50,self).__init__(**kwargs)\n",
    "        self.verbose = verbose\n",
    "        with self.name_scope():\n",
    "            b1 = nn.Sequential()\n",
    "            b1.add(nn.Conv2D(64,kernel_size=7,strides=2,padding=3))\n",
    "            \n",
    "            b2 = nn.Sequential()\n",
    "            b2.add(nn.MaxPool2D(pool_size=3,strides=2,padding=1),\n",
    "                   Residual3(64,256),\n",
    "                   Residual3(64,256),\n",
    "                   Residual3(64,256)\n",
    "                  )\n",
    "            \n",
    "            b3 = nn.Sequential()\n",
    "            b3.add(\n",
    "                Residual3(128,512,False))\n",
    "            for _ in range(3):\n",
    "                b3.add(Residual3(128,512))\n",
    "            \n",
    "            \n",
    "            b4 = nn.Sequential()\n",
    "            b4.add(\n",
    "                Residual3(256,1024,False))\n",
    "            for _ in range(5):\n",
    "                b4.add(Residual3(256,1024))\n",
    "            \n",
    "                        \n",
    "            b5 = nn.Sequential()\n",
    "            b5.add(\n",
    "                Residual3(512,2048,False))\n",
    "            for _ in range(2):\n",
    "                b5.add(Residual3(512,2048))\n",
    "                       \n",
    "            b6 = nn.Sequential()\n",
    "            b6.add(\n",
    "                nn.AvgPool2D(pool_size=3),\n",
    "                nn.Dense(num_classes)\n",
    "            )\n",
    "            # chain net\n",
    "            self.b = nn.Sequential()\n",
    "            self.b.add(b1,b2,b3,b4,b5,b6)\n",
    "    \n",
    "    def forward(self,x):\n",
    "        out = x\n",
    "        for i, b in enumerate(self.b):\n",
    "            out = b(out)\n",
    "            if self.verbose:\n",
    "                print('block %d shape: %s'%(i+1,out.shape))\n",
    "        return out\n",
    "            "
   ]
  },
  {
   "cell_type": "code",
   "execution_count": 7,
   "metadata": {},
   "outputs": [
    {
     "name": "stdout",
     "output_type": "stream",
     "text": [
      "block 1 shape: (4, 64, 112, 112)\n",
      "block 2 shape: (4, 256, 56, 56)\n",
      "block 3 shape: (4, 512, 28, 28)\n",
      "block 4 shape: (4, 1024, 14, 14)\n",
      "block 5 shape: (4, 2048, 7, 7)\n",
      "block 6 shape: (4, 10)\n"
     ]
    },
    {
     "data": {
      "text/plain": [
       "(4, 10)"
      ]
     },
     "execution_count": 7,
     "metadata": {},
     "output_type": "execute_result"
    }
   ],
   "source": [
    "net50 = Resnet50(10,verbose=True)\n",
    "net50.initialize()\n",
    "\n",
    "x = nd.random.uniform(shape=(4,3,224,224))\n",
    "y = net50(x)\n",
    "y.shape\n"
   ]
  },
  {
   "cell_type": "code",
   "execution_count": 8,
   "metadata": {},
   "outputs": [],
   "source": [
    "class Resnet(nn.Block):\n",
    "    def __init__(self, num_classes,verbose = False,**kwargs):\n",
    "        super(Resnet,self).__init__(**kwargs)\n",
    "        self.verbose = verbose\n",
    "        with self.name_scope():\n",
    "            b1 = nn.Sequential()\n",
    "            b1.add(nn.Conv2D(64,kernel_size=7,strides=2))\n",
    "            \n",
    "            b2 = nn.Sequential()\n",
    "            b2.add(nn.MaxPool2D(pool_size=3,strides=2),\n",
    "                   Residual(64),\n",
    "                   Residual(64)\n",
    "                  )\n",
    "            \n",
    "            b3 = nn.Sequential()\n",
    "            b3.add(Residual(128,same_shape=False),\n",
    "                  Residual(128)\n",
    "                  )\n",
    "\n",
    "            b4 = nn.Sequential()\n",
    "            b4.add(Residual(256,False),\n",
    "                  Residual(256)\n",
    "                  )\n",
    "            \n",
    "            b5 = nn.Sequential()\n",
    "            b5.add(Residual(512,False),\n",
    "                  Residual(512)\n",
    "                  )\n",
    "            \n",
    "            b6 = nn.Sequential()\n",
    "            b6.add(nn.AvgPool2D(pool_size=3),\n",
    "                  nn.Dense(num_classes)\n",
    "                  )\n",
    "            \n",
    "            self.net = nn.Sequential()\n",
    "            self.net.add(b1,b2,b3,b4,b5,b6)\n",
    "            \n",
    "    def forward(self,x):\n",
    "        out = x\n",
    "        for i,b in enumerate(self.net):\n",
    "            out = b(out)\n",
    "            if self.verbose:\n",
    "                print('block %d shape : %s'%(i+1,out.shape))\n",
    "        return out\n",
    "        "
   ]
  },
  {
   "cell_type": "code",
   "execution_count": 9,
   "metadata": {},
   "outputs": [],
   "source": [
    "class Resnet34(nn.Block):\n",
    "    def __init__(self,num_classes,verbose=False,**kwargs):\n",
    "        super(Resnet34,self).__init__(**kwargs)\n",
    "        self.verbose = verbose\n",
    "        with self.name_scope():\n",
    "            b1 = nn.Sequential()\n",
    "            b1.add(nn.Conv2D(64,kernel_size=7,strides=2))\n",
    "            \n",
    "            b2 = nn.Sequential()\n",
    "            b2.add(nn.MaxPool2D(pool_size=3,strides=2),\n",
    "                   Residual(64),\n",
    "                   Residual(64),\n",
    "                   Residual(64)\n",
    "                  )\n",
    "            \n",
    "            b3 = nn.Sequential()\n",
    "            b3.add(Residual(128,same_shape=False),\n",
    "                   Residual(128),\n",
    "                   Residual(128),\n",
    "                   Residual(128)\n",
    "                  )\n",
    "\n",
    "            b4 = nn.Sequential()\n",
    "            b4.add(Residual(256,False),\n",
    "                   Residual(256),\n",
    "                   Residual(256),\n",
    "                   Residual(256),\n",
    "                   Residual(256),\n",
    "                   Residual(256),\n",
    "                  )\n",
    "            \n",
    "            b5 = nn.Sequential()\n",
    "            b5.add(Residual(512,False),\n",
    "                   Residual(512),\n",
    "                   Residual(512),\n",
    "                  )\n",
    "            \n",
    "            b6 = nn.Sequential()\n",
    "            b6.add(nn.AvgPool2D(pool_size=3),\n",
    "                  nn.Dense(num_classes)\n",
    "                  )\n",
    "            \n",
    "            self.net = nn.Sequential()\n",
    "            self.net.add(b1,b2,b3,b4,b5,b6)\n",
    "            \n",
    "            \n",
    "    def forward(self,x):\n",
    "        out = x\n",
    "        for i,b in enumerate(self.net):\n",
    "            out = b(out)\n",
    "            if self.verbose:\n",
    "                print('block %d shape: %s'%(i+1,out.shape()))\n",
    "        return out"
   ]
  },
  {
   "cell_type": "code",
   "execution_count": 10,
   "metadata": {},
   "outputs": [
    {
     "name": "stdout",
     "output_type": "stream",
     "text": [
      "block 1 shape: (4, 64, 48, 48)\n",
      "block 2 shape: (4, 256, 24, 24)\n",
      "block 3 shape: (4, 512, 12, 12)\n",
      "block 4 shape: (4, 1024, 6, 6)\n",
      "block 5 shape: (4, 2048, 3, 3)\n",
      "block 6 shape: (4, 10)\n"
     ]
    }
   ],
   "source": [
    "net = Resnet50(10, verbose=True)\n",
    "net.initialize()\n",
    "\n",
    "x = nd.random.uniform(shape=(4, 3, 96, 96))\n",
    "y = net(x)"
   ]
  },
  {
   "cell_type": "code",
   "execution_count": 11,
   "metadata": {},
   "outputs": [
    {
     "data": {
      "text/plain": [
       "\n",
       "[[-0.02610619 -0.03885062  0.05612955 ..., -0.04622412  0.06981292\n",
       "  -0.02007455]\n",
       " [ 0.05836449  0.05372658 -0.01032274 ...,  0.06461724  0.01257394\n",
       "   0.0698004 ]\n",
       " [ 0.00400377  0.04627431 -0.01657203 ..., -0.06152606  0.00436205\n",
       "  -0.01263054]\n",
       " ..., \n",
       " [-0.00737525 -0.02245046  0.06219975 ...,  0.0640495  -0.05439839\n",
       "   0.00171988]\n",
       " [ 0.00825685 -0.02088102 -0.01504967 ..., -0.04874242  0.02617098\n",
       "   0.05599461]\n",
       " [ 0.04695705 -0.01793427 -0.06092513 ...,  0.05259696 -0.06517988\n",
       "   0.00960138]]\n",
       "<NDArray 10x2048 @cpu(0)>"
      ]
     },
     "execution_count": 11,
     "metadata": {},
     "output_type": "execute_result"
    }
   ],
   "source": [
    "param = net.collect_params()\n",
    "# param.get('dense0_weight').data()\n",
    "# param"
   ]
  },
  {
   "cell_type": "code",
   "execution_count": 12,
   "metadata": {},
   "outputs": [],
   "source": [
    "import sys\n",
    "sys.path.append('./')\n",
    "import utils1\n",
    "from mxnet import init\n",
    "from mxnet import gluon\n",
    "train_data,test_data = utils1.load_data_fashion_mnist(batch_size=64,resize=96)\n",
    "ctx = utils1.try_gpu()\n",
    "\n",
    "net = Resnet(10)\n",
    "net.initialize(ctx=ctx,init = init.Xavier())\n",
    "loss = gluon.loss.SoftmaxCrossEntropyLoss()\n",
    "trainer = gluon.Trainer(net.collect_params(),'sgd',{'learning_rate':0.05})\n",
    "\n",
    "# utils1.train(train_data,test_data,net,loss,trainer,ctx,num_epochs=1)\n"
   ]
  },
  {
   "cell_type": "code",
   "execution_count": 13,
   "metadata": {},
   "outputs": [],
   "source": [
    "import sys\n",
    "sys.path.append('./')\n",
    "import utils1\n",
    "from mxnet import gluon\n",
    "from mxnet import init\n",
    "\n",
    "train_data, test_data = utils1.load_data_fashion_mnist(\n",
    "    batch_size=16, resize=96)\n",
    "\n",
    "ctx = utils1.try_gpu()\n",
    "net = Resnet(10)\n",
    "net.initialize(ctx=ctx, init=init.Xavier())\n",
    "\n",
    "net1 = Resnet34(10)\n",
    "net1.initialize(ctx=ctx,init=init.Xavier())\n",
    "\n",
    "net2 = Resnet50(10)\n",
    "net2.initialize(ctx=ctx,init=init.Xavier())\n",
    "\n",
    "loss = gluon.loss.SoftmaxCrossEntropyLoss()\n",
    "trainer = gluon.Trainer(net.collect_params(),\n",
    "                        'sgd', {'learning_rate': 0.01})\n",
    "trainer34 = gluon.Trainer(net1.collect_params(),\n",
    "                        'sgd', {'learning_rate': 0.01})\n",
    "\n",
    "trainer50 = gluon.Trainer(net2.collect_params(),\n",
    "                        'sgd', {'learning_rate': 0.01})\n"
   ]
  },
  {
   "cell_type": "code",
   "execution_count": 14,
   "metadata": {},
   "outputs": [
    {
     "data": {
      "text/plain": [
       "2"
      ]
     },
     "execution_count": 14,
     "metadata": {},
     "output_type": "execute_result"
    }
   ],
   "source": [
    "len(train_data.dataset[0])\n",
    "# train_data.dataset[0]"
   ]
  },
  {
   "cell_type": "code",
   "execution_count": 15,
   "metadata": {},
   "outputs": [],
   "source": [
    "# utils1.train(train_data, test_data, net, loss,trainer, ctx, num_epochs=2)\n",
    "#Epoch 0. Loss: 0.439, Train acc 0.84, Test acc 0.88, Time 101.8 sec\n",
    "#Epoch 1. Loss: 0.280, Train acc 0.90, Test acc 0.81, Time 102.0 sec"
   ]
  },
  {
   "cell_type": "code",
   "execution_count": 16,
   "metadata": {},
   "outputs": [],
   "source": [
    "# utils1.train(train_data, test_data, net1, loss,trainer34, ctx, num_epochs=2)\n",
    "#Epoch 0. Loss: 0.478, Train acc 0.83, Test acc 0.89, Time 182.2 sec"
   ]
  },
  {
   "cell_type": "code",
   "execution_count": 17,
   "metadata": {},
   "outputs": [
    {
     "name": "stdout",
     "output_type": "stream",
     "text": [
      "Start training on  gpu(0)\n",
      "Epoch 0. Loss: 0.530, Train acc 0.81, Test acc 0.86, Time 599.3 sec\n",
      "Epoch 1. Loss: 0.331, Train acc 0.88, Test acc 0.86, Time 596.3 sec\n"
     ]
    }
   ],
   "source": [
    "utils1.train(train_data, test_data, net2, loss, trainer50, ctx, num_epochs=2)\n",
    "# dense don't used activate function\n",
    "# Epoch 0. Loss: 0.522, Train acc 0.81, Test acc 0.87, Time 599.5 sec\n"
   ]
  },
  {
   "cell_type": "code",
   "execution_count": null,
   "metadata": {},
   "outputs": [],
   "source": []
  }
 ],
 "metadata": {
  "kernelspec": {
   "display_name": "Python 3",
   "language": "python",
   "name": "python3"
  },
  "language_info": {
   "codemirror_mode": {
    "name": "ipython",
    "version": 3
   },
   "file_extension": ".py",
   "mimetype": "text/x-python",
   "name": "python",
   "nbconvert_exporter": "python",
   "pygments_lexer": "ipython3",
   "version": "3.6.4"
  }
 },
 "nbformat": 4,
 "nbformat_minor": 2
}
