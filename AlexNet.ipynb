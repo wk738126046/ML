{
 "cells": [
  {
   "cell_type": "code",
   "execution_count": 1,
   "metadata": {},
   "outputs": [],
   "source": [
    "import mxnet as mx\n",
    "from mxnet import ndarray as nd\n",
    "from mxnet.gluon import nn\n",
    "from mxnet import gluon"
   ]
  },
  {
   "cell_type": "code",
   "execution_count": 2,
   "metadata": {},
   "outputs": [],
   "source": [
    "net = nn.Sequential()\n",
    "with net.name_scope():\n",
    "    net.add(\n",
    "        #layer 1\n",
    "        nn.Conv2D(channels=96,kernel_size=11,strides=4,activation=\"relu\"),\n",
    "        nn.MaxPool2D(pool_size=3,strides=2),\n",
    "        #layer 2\n",
    "        nn.Conv2D(channels=256,kernel_size=5,padding=2,activation=\"relu\"),\n",
    "        nn.MaxPool2D(pool_size=3,strides=2),\n",
    "        #layer 3\n",
    "        nn.Conv2D(channels=384,kernel_size=3,padding=1,activation=\"relu\"),\n",
    "        nn.Conv2D(channels=384,kernel_size=3,padding=1,activation=\"relu\"),\n",
    "        nn.Conv2D(channels=256,kernel_size=3,padding=1,activation=\"relu\"),\n",
    "        nn.MaxPool2D(pool_size=3,strides=2),\n",
    "        #layer 4\n",
    "        nn.Flatten(),\n",
    "        nn.Dense(4096,activation=\"relu\"),\n",
    "        nn.Dropout(.5),\n",
    "        #layer 5\n",
    "        nn.Dense(4096,activation=\"relu\"),\n",
    "        nn.Dropout(.5),\n",
    "        #layer 6\n",
    "        nn.Dense(10),\n",
    "    )"
   ]
  },
  {
   "cell_type": "code",
   "execution_count": 3,
   "metadata": {},
   "outputs": [],
   "source": [
    "import utils1\n",
    "from mxnet.image import ImageDetIter\n",
    "train_data, test_data = utils1.load_data_fashion_mnist(batch_size=256,resize=224)\n",
    "\n",
    "# train_data.reshape(label_shape=(3, 5))\n",
    "# valid_data.sync_label_shape(train_data)"
   ]
  },
  {
   "cell_type": "code",
   "execution_count": 4,
   "metadata": {},
   "outputs": [
    {
     "data": {
      "text/plain": [
       "gpu(0)"
      ]
     },
     "execution_count": 4,
     "metadata": {},
     "output_type": "execute_result"
    }
   ],
   "source": [
    "from mxnet import init\n",
    "from mxnet import gluon\n",
    "ctx = utils1.try_gpu()\n",
    "net.initialize(ctx=ctx,init=init.Xavier(magnitude=2))\n",
    "ctx"
   ]
  },
  {
   "cell_type": "code",
   "execution_count": 5,
   "metadata": {},
   "outputs": [
    {
     "name": "stdout",
     "output_type": "stream",
     "text": [
      "Start training on  gpu(0)\n"
     ]
    },
    {
     "ename": "MXNetError",
     "evalue": "[09:42:31] src/operator/nn/./cudnn/cudnn_convolution-inl.h:550: Check failed: e == CUDNN_STATUS_SUCCESS (2 vs. 0) cuDNN: CUDNN_STATUS_ALLOC_FAILED\n\nStack trace returned 10 entries:\n[bt] (0) /home/wk/anaconda3/envs/gluon/lib/python3.6/site-packages/mxnet/libmxnet.so(+0x2d7c72) [0x7f8527548c72]\n[bt] (1) /home/wk/anaconda3/envs/gluon/lib/python3.6/site-packages/mxnet/libmxnet.so(+0x2d8248) [0x7f8527549248]\n[bt] (2) /home/wk/anaconda3/envs/gluon/lib/python3.6/site-packages/mxnet/libmxnet.so(+0x2d2734d) [0x7f8529f9834d]\n[bt] (3) /home/wk/anaconda3/envs/gluon/lib/python3.6/site-packages/mxnet/libmxnet.so(+0x2697024) [0x7f8529908024]\n[bt] (4) /home/wk/anaconda3/envs/gluon/lib/python3.6/site-packages/mxnet/libmxnet.so(+0x269ac7b) [0x7f852990bc7b]\n[bt] (5) /home/wk/anaconda3/envs/gluon/lib/python3.6/site-packages/mxnet/libmxnet.so(+0x269ae9e) [0x7f852990be9e]\n[bt] (6) /home/wk/anaconda3/envs/gluon/lib/python3.6/site-packages/mxnet/libmxnet.so(+0x269767b) [0x7f852990867b]\n[bt] (7) /home/wk/anaconda2/lib/./libstdc++.so.6(+0xafc5c) [0x7f857a320c5c]\n[bt] (8) /lib/x86_64-linux-gnu/libpthread.so.0(+0x8184) [0x7f8581b60184]\n[bt] (9) /lib/x86_64-linux-gnu/libc.so.6(clone+0x6d) [0x7f858188d03d]\n\n",
     "output_type": "error",
     "traceback": [
      "\u001b[0;31m---------------------------------------------------------------------------\u001b[0m",
      "\u001b[0;31mMXNetError\u001b[0m                                Traceback (most recent call last)",
      "\u001b[0;32m<ipython-input-5-a7be935a52ae>\u001b[0m in \u001b[0;36m<module>\u001b[0;34m()\u001b[0m\n\u001b[1;32m      3\u001b[0m                         'sgd', {'learning_rate': 0.01})\n\u001b[1;32m      4\u001b[0m utils1.train(train_data, test_data, net, loss,\n\u001b[0;32m----> 5\u001b[0;31m             trainer, ctx, num_epochs=1)\n\u001b[0m",
      "\u001b[0;32m~/gluon_ws/CNNnet/utils1.py\u001b[0m in \u001b[0;36mtrain\u001b[0;34m(train_data, test_data, net, loss, trainer, ctx, num_epochs, print_batches)\u001b[0m\n\u001b[1;32m    140\u001b[0m                 \u001b[0ml\u001b[0m\u001b[0;34m.\u001b[0m\u001b[0mbackward\u001b[0m\u001b[0;34m(\u001b[0m\u001b[0;34m)\u001b[0m\u001b[0;34m\u001b[0m\u001b[0m\n\u001b[1;32m    141\u001b[0m             train_acc += sum([(yhat.argmax(axis=1)==y).sum().asscalar()\n\u001b[0;32m--> 142\u001b[0;31m                               for yhat, y in zip(outputs, label)])\n\u001b[0m\u001b[1;32m    143\u001b[0m             \u001b[0mtrain_loss\u001b[0m \u001b[0;34m+=\u001b[0m \u001b[0msum\u001b[0m\u001b[0;34m(\u001b[0m\u001b[0;34m[\u001b[0m\u001b[0ml\u001b[0m\u001b[0;34m.\u001b[0m\u001b[0msum\u001b[0m\u001b[0;34m(\u001b[0m\u001b[0;34m)\u001b[0m\u001b[0;34m.\u001b[0m\u001b[0masscalar\u001b[0m\u001b[0;34m(\u001b[0m\u001b[0;34m)\u001b[0m \u001b[0;32mfor\u001b[0m \u001b[0ml\u001b[0m \u001b[0;32min\u001b[0m \u001b[0mlosses\u001b[0m\u001b[0;34m]\u001b[0m\u001b[0;34m)\u001b[0m\u001b[0;34m\u001b[0m\u001b[0m\n\u001b[1;32m    144\u001b[0m             \u001b[0mtrainer\u001b[0m\u001b[0;34m.\u001b[0m\u001b[0mstep\u001b[0m\u001b[0;34m(\u001b[0m\u001b[0mbatch_size\u001b[0m\u001b[0;34m)\u001b[0m\u001b[0;34m\u001b[0m\u001b[0m\n",
      "\u001b[0;32m~/gluon_ws/CNNnet/utils1.py\u001b[0m in \u001b[0;36m<listcomp>\u001b[0;34m(.0)\u001b[0m\n\u001b[1;32m    140\u001b[0m                 \u001b[0ml\u001b[0m\u001b[0;34m.\u001b[0m\u001b[0mbackward\u001b[0m\u001b[0;34m(\u001b[0m\u001b[0;34m)\u001b[0m\u001b[0;34m\u001b[0m\u001b[0m\n\u001b[1;32m    141\u001b[0m             train_acc += sum([(yhat.argmax(axis=1)==y).sum().asscalar()\n\u001b[0;32m--> 142\u001b[0;31m                               for yhat, y in zip(outputs, label)])\n\u001b[0m\u001b[1;32m    143\u001b[0m             \u001b[0mtrain_loss\u001b[0m \u001b[0;34m+=\u001b[0m \u001b[0msum\u001b[0m\u001b[0;34m(\u001b[0m\u001b[0;34m[\u001b[0m\u001b[0ml\u001b[0m\u001b[0;34m.\u001b[0m\u001b[0msum\u001b[0m\u001b[0;34m(\u001b[0m\u001b[0;34m)\u001b[0m\u001b[0;34m.\u001b[0m\u001b[0masscalar\u001b[0m\u001b[0;34m(\u001b[0m\u001b[0;34m)\u001b[0m \u001b[0;32mfor\u001b[0m \u001b[0ml\u001b[0m \u001b[0;32min\u001b[0m \u001b[0mlosses\u001b[0m\u001b[0;34m]\u001b[0m\u001b[0;34m)\u001b[0m\u001b[0;34m\u001b[0m\u001b[0m\n\u001b[1;32m    144\u001b[0m             \u001b[0mtrainer\u001b[0m\u001b[0;34m.\u001b[0m\u001b[0mstep\u001b[0m\u001b[0;34m(\u001b[0m\u001b[0mbatch_size\u001b[0m\u001b[0;34m)\u001b[0m\u001b[0;34m\u001b[0m\u001b[0m\n",
      "\u001b[0;32m~/anaconda3/envs/gluon/lib/python3.6/site-packages/mxnet/ndarray/ndarray.py\u001b[0m in \u001b[0;36masscalar\u001b[0;34m(self)\u001b[0m\n\u001b[1;32m   1842\u001b[0m         \u001b[0;32mif\u001b[0m \u001b[0mself\u001b[0m\u001b[0;34m.\u001b[0m\u001b[0mshape\u001b[0m \u001b[0;34m!=\u001b[0m \u001b[0;34m(\u001b[0m\u001b[0;36m1\u001b[0m\u001b[0;34m,\u001b[0m\u001b[0;34m)\u001b[0m\u001b[0;34m:\u001b[0m\u001b[0;34m\u001b[0m\u001b[0m\n\u001b[1;32m   1843\u001b[0m             \u001b[0;32mraise\u001b[0m \u001b[0mValueError\u001b[0m\u001b[0;34m(\u001b[0m\u001b[0;34m\"The current array is not a scalar\"\u001b[0m\u001b[0;34m)\u001b[0m\u001b[0;34m\u001b[0m\u001b[0m\n\u001b[0;32m-> 1844\u001b[0;31m         \u001b[0;32mreturn\u001b[0m \u001b[0mself\u001b[0m\u001b[0;34m.\u001b[0m\u001b[0masnumpy\u001b[0m\u001b[0;34m(\u001b[0m\u001b[0;34m)\u001b[0m\u001b[0;34m[\u001b[0m\u001b[0;36m0\u001b[0m\u001b[0;34m]\u001b[0m\u001b[0;34m\u001b[0m\u001b[0m\n\u001b[0m\u001b[1;32m   1845\u001b[0m \u001b[0;34m\u001b[0m\u001b[0m\n\u001b[1;32m   1846\u001b[0m     \u001b[0;32mdef\u001b[0m \u001b[0mastype\u001b[0m\u001b[0;34m(\u001b[0m\u001b[0mself\u001b[0m\u001b[0;34m,\u001b[0m \u001b[0mdtype\u001b[0m\u001b[0;34m)\u001b[0m\u001b[0;34m:\u001b[0m\u001b[0;34m\u001b[0m\u001b[0m\n",
      "\u001b[0;32m~/anaconda3/envs/gluon/lib/python3.6/site-packages/mxnet/ndarray/ndarray.py\u001b[0m in \u001b[0;36masnumpy\u001b[0;34m(self)\u001b[0m\n\u001b[1;32m   1824\u001b[0m             \u001b[0mself\u001b[0m\u001b[0;34m.\u001b[0m\u001b[0mhandle\u001b[0m\u001b[0;34m,\u001b[0m\u001b[0;34m\u001b[0m\u001b[0m\n\u001b[1;32m   1825\u001b[0m             \u001b[0mdata\u001b[0m\u001b[0;34m.\u001b[0m\u001b[0mctypes\u001b[0m\u001b[0;34m.\u001b[0m\u001b[0mdata_as\u001b[0m\u001b[0;34m(\u001b[0m\u001b[0mctypes\u001b[0m\u001b[0;34m.\u001b[0m\u001b[0mc_void_p\u001b[0m\u001b[0;34m)\u001b[0m\u001b[0;34m,\u001b[0m\u001b[0;34m\u001b[0m\u001b[0m\n\u001b[0;32m-> 1826\u001b[0;31m             ctypes.c_size_t(data.size)))\n\u001b[0m\u001b[1;32m   1827\u001b[0m         \u001b[0;32mreturn\u001b[0m \u001b[0mdata\u001b[0m\u001b[0;34m\u001b[0m\u001b[0m\n\u001b[1;32m   1828\u001b[0m \u001b[0;34m\u001b[0m\u001b[0m\n",
      "\u001b[0;32m~/anaconda3/envs/gluon/lib/python3.6/site-packages/mxnet/base.py\u001b[0m in \u001b[0;36mcheck_call\u001b[0;34m(ret)\u001b[0m\n\u001b[1;32m    147\u001b[0m     \"\"\"\n\u001b[1;32m    148\u001b[0m     \u001b[0;32mif\u001b[0m \u001b[0mret\u001b[0m \u001b[0;34m!=\u001b[0m \u001b[0;36m0\u001b[0m\u001b[0;34m:\u001b[0m\u001b[0;34m\u001b[0m\u001b[0m\n\u001b[0;32m--> 149\u001b[0;31m         \u001b[0;32mraise\u001b[0m \u001b[0mMXNetError\u001b[0m\u001b[0;34m(\u001b[0m\u001b[0mpy_str\u001b[0m\u001b[0;34m(\u001b[0m\u001b[0m_LIB\u001b[0m\u001b[0;34m.\u001b[0m\u001b[0mMXGetLastError\u001b[0m\u001b[0;34m(\u001b[0m\u001b[0;34m)\u001b[0m\u001b[0;34m)\u001b[0m\u001b[0;34m)\u001b[0m\u001b[0;34m\u001b[0m\u001b[0m\n\u001b[0m\u001b[1;32m    150\u001b[0m \u001b[0;34m\u001b[0m\u001b[0m\n\u001b[1;32m    151\u001b[0m \u001b[0;34m\u001b[0m\u001b[0m\n",
      "\u001b[0;31mMXNetError\u001b[0m: [09:42:31] src/operator/nn/./cudnn/cudnn_convolution-inl.h:550: Check failed: e == CUDNN_STATUS_SUCCESS (2 vs. 0) cuDNN: CUDNN_STATUS_ALLOC_FAILED\n\nStack trace returned 10 entries:\n[bt] (0) /home/wk/anaconda3/envs/gluon/lib/python3.6/site-packages/mxnet/libmxnet.so(+0x2d7c72) [0x7f8527548c72]\n[bt] (1) /home/wk/anaconda3/envs/gluon/lib/python3.6/site-packages/mxnet/libmxnet.so(+0x2d8248) [0x7f8527549248]\n[bt] (2) /home/wk/anaconda3/envs/gluon/lib/python3.6/site-packages/mxnet/libmxnet.so(+0x2d2734d) [0x7f8529f9834d]\n[bt] (3) /home/wk/anaconda3/envs/gluon/lib/python3.6/site-packages/mxnet/libmxnet.so(+0x2697024) [0x7f8529908024]\n[bt] (4) /home/wk/anaconda3/envs/gluon/lib/python3.6/site-packages/mxnet/libmxnet.so(+0x269ac7b) [0x7f852990bc7b]\n[bt] (5) /home/wk/anaconda3/envs/gluon/lib/python3.6/site-packages/mxnet/libmxnet.so(+0x269ae9e) [0x7f852990be9e]\n[bt] (6) /home/wk/anaconda3/envs/gluon/lib/python3.6/site-packages/mxnet/libmxnet.so(+0x269767b) [0x7f852990867b]\n[bt] (7) /home/wk/anaconda2/lib/./libstdc++.so.6(+0xafc5c) [0x7f857a320c5c]\n[bt] (8) /lib/x86_64-linux-gnu/libpthread.so.0(+0x8184) [0x7f8581b60184]\n[bt] (9) /lib/x86_64-linux-gnu/libc.so.6(clone+0x6d) [0x7f858188d03d]\n\n"
     ]
    }
   ],
   "source": [
    "loss = gluon.loss.SoftmaxCrossEntropyLoss()\n",
    "trainer = gluon.Trainer(net.collect_params(),\n",
    "                        'sgd', {'learning_rate': 0.01})\n",
    "utils1.train(train_data, test_data, net, loss,\n",
    "            trainer, ctx, num_epochs=1)"
   ]
  },
  {
   "cell_type": "code",
   "execution_count": null,
   "metadata": {
    "collapsed": true
   },
   "outputs": [],
   "source": [
    "import random\n",
    "random.seed(998)\n",
    "input_array = nd.array([[3., 0.5,  -0.5,  2., 7.],\n",
    "                    [2., -0.4,   7.,  3., 0.2]])\n",
    "a = mx.symbol.Variable('a')\n",
    "dropout = mx.symbol.Dropout(a, p = 0.2)\n",
    "executor = dropout.simple_bind(ctx = mx.cpu(),a = input_array.shape)\n",
    "executor.forward(is_train = True, a = input_array)\n",
    "executor.outputs\n",
    "b = mx.symbol.Variable('b')\n",
    "c=a+b\n",
    "type(c)\n",
    "e = c.bind(mx.cpu(),{'a':nd.array([1,2]),'b':nd.array([33,4])})\n",
    "e.forward()"
   ]
  },
  {
   "cell_type": "code",
   "execution_count": null,
   "metadata": {
    "collapsed": true
   },
   "outputs": [],
   "source": []
  }
 ],
 "metadata": {
  "kernelspec": {
   "display_name": "Python 3",
   "language": "python",
   "name": "python3"
  },
  "language_info": {
   "codemirror_mode": {
    "name": "ipython",
    "version": 3
   },
   "file_extension": ".py",
   "mimetype": "text/x-python",
   "name": "python",
   "nbconvert_exporter": "python",
   "pygments_lexer": "ipython3",
   "version": "3.6.4"
  }
 },
 "nbformat": 4,
 "nbformat_minor": 2
}
