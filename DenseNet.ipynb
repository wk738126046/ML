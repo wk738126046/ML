{
 "cells": [
  {
   "cell_type": "code",
   "execution_count": 1,
   "metadata": {},
   "outputs": [],
   "source": [
    "from mxnet import nd\n",
    "from mxnet.gluon import nn\n",
    "from mxnet import init"
   ]
  },
  {
   "cell_type": "code",
   "execution_count": 2,
   "metadata": {},
   "outputs": [],
   "source": [
    "def conv_block(channels):\n",
    "    net = nn.Sequential()\n",
    "    with net.name_scope():\n",
    "        net.add(\n",
    "            nn.BatchNorm(),\n",
    "            nn.Activation(activation='relu'),\n",
    "            nn.Conv2D(channels,kernel_size=3, padding=1)\n",
    "        )\n",
    "    return net\n"
   ]
  },
  {
   "cell_type": "code",
   "execution_count": 3,
   "metadata": {},
   "outputs": [],
   "source": [
    "def conv_block1(channels):\n",
    "    net = nn.Sequential()\n",
    "    with net.name_scope():\n",
    "        net.add(\n",
    "            nn.BatchNorm(),\n",
    "            nn.Activation(activation='relu'),\n",
    "            nn.Conv2D(channels,kernel_size=1),\n",
    "            nn.BatchNorm(),\n",
    "            nn.Activation(activation='relu'),\n",
    "            nn.Conv2D(channels,kernel_size=3, padding=1)\n",
    "        )\n",
    "    return net"
   ]
  },
  {
   "cell_type": "code",
   "execution_count": 4,
   "metadata": {},
   "outputs": [
    {
     "data": {
      "text/plain": [
       "(4, 10, 6, 6)"
      ]
     },
     "execution_count": 4,
     "metadata": {},
     "output_type": "execute_result"
    }
   ],
   "source": [
    "net = conv_block1(10)\n",
    "net.initialize()\n",
    "x = nd.random.uniform(shape=(4,3,6,6))\n",
    "y = net(x)\n",
    "y.shape\n",
    "# net.collect_params()"
   ]
  },
  {
   "cell_type": "code",
   "execution_count": 5,
   "metadata": {},
   "outputs": [],
   "source": [
    "class DenseBlock(nn.Block):\n",
    "    def __init__(self,layers,channels,**kwargs):\n",
    "        super(DenseBlock,self).__init__(**kwargs)\n",
    "        self.net = nn.Sequential()\n",
    "        for layer in range(layers):\n",
    "            self.net.add(conv_block(channels))\n",
    "        \n",
    "    def forward(self,x):\n",
    "        for b in self.net: \n",
    "            out = b(x)\n",
    "            x = nd.concat(x,out,dim=1)\n",
    "        return x\n",
    "        \n",
    "            "
   ]
  },
  {
   "cell_type": "code",
   "execution_count": 6,
   "metadata": {},
   "outputs": [
    {
     "name": "stdout",
     "output_type": "stream",
     "text": [
      "(4, 23, 6, 6)\n"
     ]
    }
   ],
   "source": [
    "net1 = DenseBlock(2,10)\n",
    "net1.initialize()\n",
    "x = nd.random.uniform(shape = (4,3,6,6))\n",
    "y = net1(x)\n",
    "print(y.shape)\n",
    "# net1.collect_params()"
   ]
  },
  {
   "cell_type": "code",
   "execution_count": 7,
   "metadata": {},
   "outputs": [],
   "source": [
    "def transformBlock(channels):\n",
    "    net = nn.Sequential()\n",
    "    net.add(\n",
    "        nn.BatchNorm(),\n",
    "        nn.Activation('relu'),\n",
    "        nn.Conv2D(channels,kernel_size=1),\n",
    "        nn.AvgPool2D(pool_size=2,strides=2)\n",
    "    )\n",
    "    return net\n",
    "    "
   ]
  },
  {
   "cell_type": "code",
   "execution_count": 8,
   "metadata": {},
   "outputs": [
    {
     "data": {
      "text/plain": [
       "(4, 3, 6, 6)"
      ]
     },
     "execution_count": 8,
     "metadata": {},
     "output_type": "execute_result"
    }
   ],
   "source": [
    "x.shape"
   ]
  },
  {
   "cell_type": "code",
   "execution_count": 9,
   "metadata": {},
   "outputs": [
    {
     "data": {
      "text/plain": [
       "(4, 10, 3, 3)"
      ]
     },
     "execution_count": 9,
     "metadata": {},
     "output_type": "execute_result"
    }
   ],
   "source": [
    "net3 = transformBlock(10)\n",
    "net3.initialize()\n",
    "net3(x).shape"
   ]
  },
  {
   "cell_type": "code",
   "execution_count": 10,
   "metadata": {},
   "outputs": [],
   "source": [
    "# net3.collect_params()|"
   ]
  },
  {
   "cell_type": "code",
   "execution_count": 11,
   "metadata": {},
   "outputs": [],
   "source": [
    "\n",
    "nets =[]\n",
    "class DenseNet(nn.Block):\n",
    "    def __init__(self,growth_gate,channels,num_classes,layers,**kwargs):\n",
    "        super(DenseNet,self).__init__(**kwargs)\n",
    "        self.layers = layers\n",
    "        self.channels = channels\n",
    "        with self.name_scope():\n",
    "            net1 = nn.Sequential()\n",
    "            net1.add(\n",
    "                nn.Conv2D(self.channels,kernel_size=7,strides=2,padding=3),\n",
    "                nn.MaxPool2D(pool_size=3,strides=2,padding=1)\n",
    "            )\n",
    "            for i,layer in enumerate(self.layers):\n",
    "                net = nn.Sequential()\n",
    "                net.add(DenseBlock(layer,growth_gate))\n",
    "                self.channels += layer*growth_gate\n",
    "#                 print('channel: %d'%self.channels)\n",
    "                if i != len(self.layers)-1:\n",
    "                    net.add(transformBlock(self.channels//2))\n",
    "                nets.append(net)\n",
    "            net2 = nn.Sequential()\n",
    "            net2.add(\n",
    "                nn.BatchNorm(),\n",
    "                nn.Activation('relu'),\n",
    "                nn.AvgPool2D(pool_size=7),\n",
    "                nn.Dense(num_classes,activation='softrelu')\n",
    "            )\n",
    "            self.net = nn.Sequential()\n",
    "            self.net.add(net1,nets[0],nets[1],nets[2],nets[3],net2)\n",
    "#             print(nets[0])\n",
    "            \n",
    "    def forward(self,x):\n",
    "        out = x\n",
    "        for i,b in enumerate(self.net):\n",
    "            out = b(out)\n",
    "#             print('block %d shape :%s'%(i+1,out.shape))\n",
    "        return out\n",
    "\n",
    "                    \n",
    "                "
   ]
  },
  {
   "cell_type": "code",
   "execution_count": 12,
   "metadata": {},
   "outputs": [],
   "source": [
    "# layers = [6,12,24,16] #densenet121\n",
    "# growth_gate = 32\n",
    "# net = DenseNet(growth_gate=32,channels=64,num_classes=10,layers=layers)\n",
    "# net.initialize()\n",
    "# x = nd.random.uniform(shape = (4,3,224,224))\n",
    "# y = net(x)\n",
    "# y.shape"
   ]
  },
  {
   "cell_type": "code",
   "execution_count": 13,
   "metadata": {},
   "outputs": [
    {
     "name": "stdout",
     "output_type": "stream",
     "text": [
      "gpu(0)\n"
     ]
    }
   ],
   "source": [
    "from mxnet import init\n",
    "import utils1\n",
    "from mxnet import gluon\n",
    "\n",
    "train_data,test_data = utils1.load_data_fashion_mnist(batch_size=4,resize=32)\n",
    "ctx = utils1.try_gpu()\n",
    "print(ctx)\n",
    "net = DenseNet(growth_gate=32,channels=64,num_classes=10,layers=[6,12,24,16])\n",
    "net.initialize(ctx=ctx,init=init.MSRAPrelu())\n",
    "\n",
    "loss = gluon.loss.SoftmaxCrossEntropyLoss()\n",
    "trainer = gluon.Trainer(net.collect_params(),'sgd',{'learning_rate':0.1})\n",
    "\n",
    "\n"
   ]
  },
  {
   "cell_type": "code",
   "execution_count": 14,
   "metadata": {},
   "outputs": [],
   "source": [
    "# utils1.train(train_data,test_data,net,loss,trainer,ctx,num_epochs=1)"
   ]
  },
  {
   "cell_type": "code",
   "execution_count": 19,
   "metadata": {},
   "outputs": [],
   "source": [
    "init_channels = 64\n",
    "growth_rate = 32\n",
    "block_layers = [6, 12, 24, 16]\n",
    "num_classes = 10\n",
    "\n",
    "def dense_net():\n",
    "    net = nn.Sequential()\n",
    "    # add name_scope on the outermost Sequential\n",
    "    with net.name_scope():\n",
    "        # first block\n",
    "        net.add(\n",
    "            nn.Conv2D(init_channels, kernel_size=7,\n",
    "                      strides=2, padding=3),\n",
    "            nn.BatchNorm(),\n",
    "            nn.Activation('relu'),\n",
    "            nn.MaxPool2D(pool_size=3, strides=2, padding=1)\n",
    "        )\n",
    "        # dense blocks\n",
    "        channels = init_channels\n",
    "        for i, layers in enumerate(block_layers):\n",
    "            net.add(DenseBlock(layers, growth_rate))\n",
    "            channels += layers * growth_rate\n",
    "            if i != len(block_layers)-1:\n",
    "                net.add(transformBlock(channels//2))\n",
    "        # last block\n",
    "        net.add(\n",
    "            nn.BatchNorm(),\n",
    "            nn.Activation('relu'),\n",
    "            nn.AvgPool2D(pool_size=1),\n",
    "            nn.Flatten(),\n",
    "            nn.Dense(num_classes)\n",
    "        )\n",
    "    return net"
   ]
  },
  {
   "cell_type": "code",
   "execution_count": 20,
   "metadata": {},
   "outputs": [
    {
     "name": "stdout",
     "output_type": "stream",
     "text": [
      "Start training on  gpu(0)\n",
      "Epoch 0. Loss: 0.654, Train acc 0.79, Test acc 0.86, Time 334.7 sec\n"
     ]
    }
   ],
   "source": [
    "import utils1\n",
    "from mxnet import gluon\n",
    "from mxnet import init\n",
    "\n",
    "train_data, test_data = utils1.load_data_fashion_mnist(\n",
    "    batch_size=16, resize=32)\n",
    "\n",
    "ctx = utils1.try_gpu()\n",
    "net = dense_net()\n",
    "net.initialize(ctx=ctx, init=init.Xavier())\n",
    "\n",
    "loss = gluon.loss.SoftmaxCrossEntropyLoss()\n",
    "trainer = gluon.Trainer(net.collect_params(),\n",
    "                        'sgd', {'learning_rate': 0.1})\n",
    "utils1.train(train_data, test_data, net, loss,\n",
    "            trainer, ctx, num_epochs=1)"
   ]
  },
  {
   "cell_type": "code",
   "execution_count": null,
   "metadata": {},
   "outputs": [],
   "source": []
  }
 ],
 "metadata": {
  "kernelspec": {
   "display_name": "Python 3",
   "language": "python",
   "name": "python3"
  },
  "language_info": {
   "codemirror_mode": {
    "name": "ipython",
    "version": 3
   },
   "file_extension": ".py",
   "mimetype": "text/x-python",
   "name": "python",
   "nbconvert_exporter": "python",
   "pygments_lexer": "ipython3",
   "version": "3.6.4"
  }
 },
 "nbformat": 4,
 "nbformat_minor": 2
}
