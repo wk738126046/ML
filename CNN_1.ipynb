{
 "cells": [
  {
   "cell_type": "code",
   "execution_count": 2,
   "metadata": {},
   "outputs": [
    {
     "name": "stderr",
     "output_type": "stream",
     "text": [
      "/home/wk/anaconda3/lib/python3.6/site-packages/h5py/__init__.py:34: FutureWarning: Conversion of the second argument of issubdtype from `float` to `np.floating` is deprecated. In future, it will be treated as `np.float64 == np.dtype(float).type`.\n",
      "  from ._conv import register_converters as _register_converters\n",
      "/home/wk/anaconda3/lib/python3.6/site-packages/urllib3/contrib/pyopenssl.py:46: DeprecationWarning: OpenSSL.rand is deprecated - you should use os.urandom instead\n",
      "  import OpenSSL.SSL\n"
     ]
    }
   ],
   "source": [
    "from mxnet import nd"
   ]
  },
  {
   "cell_type": "code",
   "execution_count": 3,
   "metadata": {},
   "outputs": [
    {
     "name": "stdout",
     "output_type": "stream",
     "text": [
      "(2, 2)\n",
      "input: \n",
      "[[[[0. 1. 2.]\n",
      "   [3. 4. 5.]\n",
      "   [6. 7. 8.]]]]\n",
      "<NDArray 1x1x3x3 @cpu(0)> \n",
      "weight: \n",
      "[[[[0. 1.]\n",
      "   [2. 3.]]]]\n",
      "<NDArray 1x1x2x2 @cpu(0)> \n",
      "bias: \n",
      "[1.]\n",
      "<NDArray 1 @cpu(0)> \n",
      "output: \n",
      "[[[[20. 26.]\n",
      "   [38. 44.]]]]\n",
      "<NDArray 1x1x2x2 @cpu(0)>\n"
     ]
    }
   ],
   "source": [
    "# 输入输出数据格式是 batch x channel x height x width，这里batch和channel都是1\n",
    "# 权重格式是 output_channels x in_channels x height x width，这里input_filter和output_filter都是1。\n",
    "##conv layers\n",
    "w = nd.arange(4).reshape((1,1,2,2))\n",
    "b = nd.array([1])\n",
    "#input 1*1*3*3\n",
    "data = nd.arange(9).reshape((1,1,3,3))\n",
    "print(w.shape[2:])\n",
    "out = nd.Convolution(data,w,b,kernel=w.shape[2:],num_filter=w.shape[1])\n",
    "print('input:',data,'\\nweight:',w,'\\nbias:',b,'\\noutput:',out)"
   ]
  },
  {
   "cell_type": "code",
   "execution_count": 4,
   "metadata": {},
   "outputs": [
    {
     "name": "stdout",
     "output_type": "stream",
     "text": [
      "input: \n",
      "[[[[0. 1. 2.]\n",
      "   [3. 4. 5.]\n",
      "   [6. 7. 8.]]]]\n",
      "<NDArray 1x1x3x3 @cpu(0)> \n",
      "weight: \n",
      "[[[[0. 1.]\n",
      "   [2. 3.]]]]\n",
      "<NDArray 1x1x2x2 @cpu(0)> \n",
      "bias: \n",
      "[1.]\n",
      "<NDArray 1 @cpu(0)> \n",
      "output: \n",
      "[[[[ 1.  9.]\n",
      "   [22. 44.]]]]\n",
      "<NDArray 1x1x2x2 @cpu(0)>\n"
     ]
    }
   ],
   "source": [
    "out = nd.Convolution(data,w,b,kernel=w.shape[2:],num_filter=w.shape[1],stride=(2,2),pad=(1,1))\n",
    "print('input:',data,'\\nweight:',w,'\\nbias:',b,'\\noutput:',out)"
   ]
  },
  {
   "cell_type": "code",
   "execution_count": 5,
   "metadata": {},
   "outputs": [
    {
     "name": "stdout",
     "output_type": "stream",
     "text": [
      "input: \n",
      "[[[[ 0.  1.  2.]\n",
      "   [ 3.  4.  5.]\n",
      "   [ 6.  7.  8.]]\n",
      "\n",
      "  [[ 9. 10. 11.]\n",
      "   [12. 13. 14.]\n",
      "   [15. 16. 17.]]]]\n",
      "<NDArray 1x2x3x3 @cpu(0)> \n",
      "weight: \n",
      "[[[[ 0.  1.]\n",
      "   [ 2.  3.]]\n",
      "\n",
      "  [[ 4.  5.]\n",
      "   [ 6.  7.]]]\n",
      "\n",
      "\n",
      " [[[ 8.  9.]\n",
      "   [10. 11.]]\n",
      "\n",
      "  [[12. 13.]\n",
      "   [14. 15.]]]]\n",
      "<NDArray 2x2x2x2 @cpu(0)> \n",
      "bias: \n",
      "[1. 2.]\n",
      "<NDArray 2 @cpu(0)> \n",
      "output: \n",
      "[[[[ 269.  297.]\n",
      "   [ 353.  381.]]\n",
      "\n",
      "  [[ 686.  778.]\n",
      "   [ 962. 1054.]]]]\n",
      "<NDArray 1x2x2x2 @cpu(0)>\n"
     ]
    }
   ],
   "source": [
    "w = nd.arange(16).reshape((2,2,2,2))\n",
    "data = nd.arange(18).reshape((1,2,3,3))\n",
    "b = nd.array([1,2])\n",
    "\n",
    "out = nd.Convolution(data,w,b,kernel=w.shape[2:],num_filter=w.shape[0])\n",
    "print('input:',data,'\\nweight:',w,'\\nbias:',b,'\\noutput:',out)"
   ]
  },
  {
   "cell_type": "markdown",
   "metadata": {},
   "source": [
    "## pooling layer"
   ]
  },
  {
   "cell_type": "code",
   "execution_count": 6,
   "metadata": {},
   "outputs": [
    {
     "name": "stdout",
     "output_type": "stream",
     "text": [
      "input: \n",
      "[[[[ 0.  1.  2.]\n",
      "   [ 3.  4.  5.]\n",
      "   [ 6.  7.  8.]]\n",
      "\n",
      "  [[ 9. 10. 11.]\n",
      "   [12. 13. 14.]\n",
      "   [15. 16. 17.]]]]\n",
      "<NDArray 1x2x3x3 @cpu(0)> \n",
      "max pool: \n",
      "[[[[ 4.  5.]\n",
      "   [ 7.  8.]]\n",
      "\n",
      "  [[13. 14.]\n",
      "   [16. 17.]]]]\n",
      "<NDArray 1x2x2x2 @cpu(0)> \n",
      "avg pool: \n",
      "[[[[ 2.  3.]\n",
      "   [ 5.  6.]]\n",
      "\n",
      "  [[11. 12.]\n",
      "   [14. 15.]]]]\n",
      "<NDArray 1x2x2x2 @cpu(0)>\n"
     ]
    }
   ],
   "source": [
    "data = nd.arange(18).reshape((1,2,3,3))\n",
    "max_pool = nd.Pooling(data,pool_type='max',kernel=(2,2))\n",
    "avg_pool = nd.Pooling(data, pool_type='avg',kernel=(2,2))\n",
    "print('input:',data,'\\nmax pool:',max_pool,'\\navg pool:',avg_pool)"
   ]
  },
  {
   "cell_type": "code",
   "execution_count": 7,
   "metadata": {
    "collapsed": true
   },
   "outputs": [],
   "source": [
    "import sys\n",
    "# sys.path.append('/home/wk/gluon_ws')\n",
    "from mxnet import gluon\n",
    "from utils1 import load_data_fashion_mnist\n"
   ]
  },
  {
   "cell_type": "code",
   "execution_count": 8,
   "metadata": {},
   "outputs": [
    {
     "name": "stderr",
     "output_type": "stream",
     "text": [
      "/home/wk/anaconda3/lib/python3.6/site-packages/mxnet/gluon/data/vision.py:118: DeprecationWarning: The binary mode of fromstring is deprecated, as it behaves surprisingly on unicode inputs. Use frombuffer instead\n",
      "  label = np.fromstring(fin.read(), dtype=np.uint8).astype(np.int32)\n",
      "/home/wk/anaconda3/lib/python3.6/site-packages/mxnet/gluon/data/vision.py:122: DeprecationWarning: The binary mode of fromstring is deprecated, as it behaves surprisingly on unicode inputs. Use frombuffer instead\n",
      "  data = np.fromstring(fin.read(), dtype=np.uint8)\n"
     ]
    }
   ],
   "source": [
    "batch_size = 256\n",
    "train_data, test_data = load_data_fashion_mnist(batch_size)\n"
   ]
  },
  {
   "cell_type": "code",
   "execution_count": 9,
   "metadata": {},
   "outputs": [
    {
     "data": {
      "text/plain": [
       "gpu(0)"
      ]
     },
     "execution_count": 9,
     "metadata": {},
     "output_type": "execute_result"
    }
   ],
   "source": [
    "import mxnet as mx\n",
    "try: \n",
    "    ctx = mx.gpu()\n",
    "    _ = nd.zeros((1,),ctx=ctx)\n",
    "except:\n",
    "    ctx = mx.cpu()\n",
    "ctx"
   ]
  },
  {
   "cell_type": "code",
   "execution_count": 10,
   "metadata": {
    "collapsed": true
   },
   "outputs": [],
   "source": [
    "weight_scale = .01\n",
    "#output channels = 20, kernel = (5,5)\n",
    "w1 = nd.random_normal(shape=(20,1,5,5),scale=weight_scale,ctx=ctx)\n",
    "b1 = nd.zeros(w1.shape[0],ctx=ctx)\n",
    "\n",
    "#output channels = 50, kernel = (3,3)\n",
    "w2 = nd.random_normal(shape=(50,20,3,3),scale=weight_scale,ctx=ctx)\n",
    "b2 = nd.zeros(w2.shape[0],ctx=ctx)\n",
    "\n",
    "#output dim = 128\n",
    "w3 = nd.random_normal(shape=(1250,128),scale = weight_scale,ctx=ctx)\n",
    "b3 = nd.zeros(w3.shape[1],ctx=ctx)\n",
    "\n",
    "#output dim = 10\n",
    "w4 = nd.random_normal(shape=(w3.shape[1],10),scale=weight_scale,ctx=ctx)\n",
    "b4 = nd.zeros(w4.shape[1],ctx=ctx)\n",
    "\n",
    "params = [w1,b1,w2,b2,w3,b3,w4,b4]\n",
    "for param in params:\n",
    "    param.attach_grad()"
   ]
  },
  {
   "cell_type": "code",
   "execution_count": 11,
   "metadata": {
    "collapsed": true
   },
   "outputs": [],
   "source": [
    "def net(X,verbose=False):\n",
    "    print(X.shape)\n",
    "    X = X.as_in_context(w1.context)\n",
    "    #conv1\n",
    "    h1_conv = nd.Convolution(data = X,weight=w1, bias=b1,kernel=w1.shape[2:],num_filter=w1.shape[0])\n",
    "    h1_activation = nd.relu(h1_conv)\n",
    "    h1 = nd.Pooling(data=h1_activation,pool_type='max',kernel=(2,2),stride=(2,2))\n",
    "    \n",
    "    #conv2\n",
    "    h2_conv=nd.Convolution(data=h1,weight=w2,bias=b2,kernel=w2.shape[2:],num_filter=w2.shape[0])\n",
    "    h2_activation = nd.relu(h2_conv)\n",
    "    h2  = nd.Pooling(data=h2_activation,pool_type='max',kernel=(2,2),stride=(2,2))\n",
    "    h2 = nd.flatten(h2)\n",
    "    #fc1\n",
    "    h3_linear = nd.dot(h2,w3)+b3\n",
    "    h3 = nd.relu(h3_linear)\n",
    "    #fc2\n",
    "    h4_linear = nd.dot(h3,w4)+b4\n",
    "    if verbose:\n",
    "        print('1st conv block:', h1.shape)\n",
    "        print('2nd conv block:', h2.shape)\n",
    "        print('1st dense:', h3.shape)\n",
    "        print('2nd dense:', h4_linear.shape)\n",
    "        print('output:', h4_linear)\n",
    "    return h4_linear"
   ]
  },
  {
   "cell_type": "code",
   "execution_count": 12,
   "metadata": {},
   "outputs": [
    {
     "name": "stdout",
     "output_type": "stream",
     "text": [
      "(256, 1, 28, 28)\n",
      "1st conv block: (256, 20, 12, 12)\n",
      "2nd conv block: (256, 1250)\n",
      "1st dense: (256, 128)\n",
      "2nd dense: (256, 10)\n",
      "output: \n",
      "[[-1.34742062e-04  3.91600188e-05  4.63903853e-05 ...  2.09621561e-04\n",
      "   9.39194942e-05  5.92381475e-05]\n",
      " [-2.03683696e-04  6.27324116e-05  1.72832137e-04 ...  1.50834210e-04\n",
      "   1.32468296e-04  1.49707019e-04]\n",
      " [-1.30133485e-04  2.19544054e-05  8.49038915e-05 ...  6.50751317e-05\n",
      "   1.35110182e-04  1.06310552e-04]\n",
      " ...\n",
      " [-1.35622919e-04 -2.35706611e-05  6.91858877e-05 ...  1.73665103e-04\n",
      "   8.14187661e-05  1.10244604e-04]\n",
      " [-7.69861799e-05  3.55988450e-05  5.04717973e-05 ...  3.76938515e-05\n",
      "   7.65914592e-05  5.31316109e-05]\n",
      " [-1.24010185e-04  4.00239878e-05  1.66009529e-04 ...  8.12018043e-05\n",
      "   1.13639304e-04  1.36643881e-04]]\n",
      "<NDArray 256x10 @gpu(0)>\n"
     ]
    }
   ],
   "source": [
    "for data, _ in train_data:\n",
    "    net(data, verbose=True)\n",
    "    break"
   ]
  },
  {
   "cell_type": "code",
   "execution_count": 86,
   "metadata": {},
   "outputs": [
    {
     "name": "stdout",
     "output_type": "stream",
     "text": [
      "0.07486343383789062\n",
      "0.1895427703857422\n"
     ]
    }
   ],
   "source": [
    "import mxnet as mx\n",
    "import time\n",
    "s = nd.arange(10000).reshape((10000,1))\n",
    "# print(s)\n",
    "a = nd.random_normal(shape=(10000,10000),scale=.01)\n",
    "# print(a)\n",
    "now1 = time.time()\n",
    "f = nd.dot(a,s)\n",
    "now2 = time.time()\n",
    "print((now2-now1)*1000)\n",
    "now11 = time.time()\n",
    "aa = a.as_in_context(mx.gpu())\n",
    "now22 = time.time()\n",
    "print((now22-now11)*1000)\n"
   ]
  },
  {
   "cell_type": "code",
   "execution_count": 73,
   "metadata": {},
   "outputs": [
    {
     "name": "stdout",
     "output_type": "stream",
     "text": [
      "0.08845329284667969\n"
     ]
    }
   ],
   "source": [
    "s = nd.arange(100,ctx=mx.gpu()).reshape((100,1))\n",
    "# print(s)\n",
    "a = nd.random_normal(shape=(100,100),scale=.01,ctx=mx.gpu())\n",
    "# print(a)\n",
    "now1 = time.time()\n",
    "f = nd.dot(a,s)\n",
    "now2 = time.time()\n",
    "print((now2-now1)*1000)"
   ]
  },
  {
   "cell_type": "code",
   "execution_count": 102,
   "metadata": {},
   "outputs": [],
   "source": [
    "from mxnet.gluon import nn"
   ]
  },
  {
   "cell_type": "code",
   "execution_count": 125,
   "metadata": {},
   "outputs": [
    {
     "name": "stdout",
     "output_type": "stream",
     "text": [
      "\n",
      "[[0.10232294 0.9970644  0.07205658 0.43203783 0.8144738  0.16743097\n",
      "  0.05625672 0.509534   0.5285208  0.38097662]\n",
      " [0.322278   0.42643943 0.77552855 0.9932089  0.19089413 0.76034296\n",
      "  0.5067027  0.78196734 0.47605646 0.9856647 ]]\n",
      "<NDArray 2x10 @cpu(0)>\n"
     ]
    }
   ],
   "source": [
    "def get_net():\n",
    "    net = nn.Sequential()\n",
    "    with net.name_scope():\n",
    "        net.add(nn.Dense(10,activation='relu'))\n",
    "        net.add(nn.Dense(2))\n",
    "    return net\n",
    "\n",
    "net = get_net()\n",
    "# print(net.collect_params)\n",
    "net.initialize()\n",
    "x = nd.random.uniform(shape=(2,10))\n",
    "net(x)\n",
    "print(x)\n"
   ]
  },
  {
   "cell_type": "code",
   "execution_count": 142,
   "metadata": {
    "collapsed": true
   },
   "outputs": [
    {
     "name": "stdout",
     "output_type": "stream",
     "text": [
      "\n",
      "[[-0.00171718  0.00589358]\n",
      " [ 0.00011509 -0.00059731]]\n",
      "<NDArray 2x2 @cpu(0)>\n",
      "odict_keys(['sequential18_dense0_weight', 'sequential18_dense0_bias', 'sequential18_dense1_weight', 'sequential18_dense1_bias'])\n",
      "\n",
      "[[ 0.01517928 -0.02047256 -0.02355406  0.04838201 -0.0278985  -0.01531811\n",
      "   0.02635069 -0.02959068 -0.03498466 -0.05543771]\n",
      " [-0.03848986 -0.04299378 -0.05290868  0.02053718  0.00883086  0.03420109\n",
      "   0.00150619  0.01088265 -0.00421003 -0.06297817]\n",
      " [-0.00487888  0.05704216  0.03639957  0.04210176  0.04339372 -0.01837374\n",
      "   0.03754044 -0.04624455  0.01866682 -0.05854589]\n",
      " [-0.00147696  0.01595342  0.02077559 -0.03274477 -0.03626035 -0.04805061\n",
      "   0.05141753 -0.03726027 -0.00394321 -0.00953716]\n",
      " [ 0.06256447 -0.01444218 -0.00663622  0.06836209  0.05412047  0.02242351\n",
      "   0.05974532  0.00864073 -0.05862761 -0.03281445]\n",
      " [ 0.04172114  0.03622857  0.01542428  0.00313994 -0.04792007  0.03810354\n",
      "   0.02416857 -0.06902966 -0.03550147  0.0334644 ]\n",
      " [ 0.04488035 -0.05207274 -0.05375268 -0.06760988 -0.04941236  0.04768343\n",
      "   0.02653592 -0.06237065  0.01447639 -0.04716101]\n",
      " [ 0.00989237 -0.04371978 -0.03477471 -0.01920431  0.04350593 -0.05793771\n",
      "   0.06401976  0.0667455   0.01200958  0.00121116]\n",
      " [-0.02306177 -0.03885419  0.06858706 -0.00713003  0.05982976  0.00520697\n",
      "  -0.06524733  0.06152583  0.06082403 -0.02222082]\n",
      " [ 0.01109257  0.00094832  0.04611485  0.0077094  -0.00496089  0.04135175\n",
      "  -0.02296596  0.00476702 -0.02225776 -0.00227379]]\n",
      "<NDArray 10x10 @cpu(0)>\n",
      "\n",
      "[[ 0.02038056 -0.00914202  0.01575898 -0.01977764 -0.04236894  0.018417\n",
      "   0.00519982 -0.01318872 -0.0208935   0.06566141]\n",
      " [-0.00949929  0.06325316  0.03920342  0.0129234  -0.06069576  0.04510585\n",
      "   0.06963608  0.04144587  0.06892722 -0.04101318]]\n",
      "<NDArray 2x10 @cpu(0)>\n"
     ]
    }
   ],
   "source": [
    "print(net(x))\n",
    "# print(net.collect_params)\n",
    "params = net.collect_params()\n",
    "print(params.keys())\n",
    "print(params.get('dense0_weight').data())\n",
    "print(params.get('dense1_weight').data())"
   ]
  },
  {
   "cell_type": "code",
   "execution_count": 149,
   "metadata": {},
   "outputs": [
    {
     "name": "stdout",
     "output_type": "stream",
     "text": [
      "\n",
      "[[-0.00171718  0.00589358]\n",
      " [ 0.00011509 -0.00059731]]\n",
      "<NDArray 2x2 @cpu(0)>\n"
     ]
    }
   ],
   "source": [
    "filename1 = './mlp.params'\n",
    "net.save_params(filename1)\n",
    "net2 = get_net()\n",
    "net2.load_params(filename1,mx.cpu())\n",
    "print(net2(x))"
   ]
  },
  {
   "cell_type": "code",
   "execution_count": 156,
   "metadata": {
    "collapsed": true
   },
   "outputs": [],
   "source": [
    "from mxnet import nd\n",
    "from mxnet.gluon import nn\n",
    "class CenterLayer(nn.Block):\n",
    "    def __init__(self,**k):\n",
    "        super(CenterLayer, self).__init__(**k)\n",
    "    def forward(self, x):\n",
    "        return x - x.mean()"
   ]
  },
  {
   "cell_type": "code",
   "execution_count": 157,
   "metadata": {},
   "outputs": [
    {
     "data": {
      "text/plain": [
       "\n",
       "[-2. -1.  0.  1.  2.]\n",
       "<NDArray 5 @cpu(0)>"
      ]
     },
     "execution_count": 157,
     "metadata": {},
     "output_type": "execute_result"
    }
   ],
   "source": [
    "layer  = CenterLayer()\n",
    "layer(nd.array([1,2,3,4,5]))"
   ]
  },
  {
   "cell_type": "code",
   "execution_count": 158,
   "metadata": {
    "collapsed": true
   },
   "outputs": [],
   "source": [
    "net = nn.Sequential()\n",
    "with net.name_scope():\n",
    "    net.add(nn.Dense(128))\n",
    "    net.add(nn.Dense(10))\n",
    "    net.add(CenterLayer())"
   ]
  },
  {
   "cell_type": "code",
   "execution_count": 182,
   "metadata": {
    "scrolled": false
   },
   "outputs": [
    {
     "name": "stdout",
     "output_type": "stream",
     "text": [
      "odict_keys(['sequential23_dense0_weight', 'sequential23_dense0_bias', 'sequential23_dense1_weight', 'sequential23_dense1_bias'])\n",
      "\n",
      "[[-0.00811242 -0.01717252  0.04150712 ... -0.01934163 -0.02216569\n",
      "   0.04895021]\n",
      " [ 0.05007882 -0.04186276  0.01005154 ... -0.00939962 -0.06334607\n",
      "  -0.01427951]\n",
      " [-0.00195836  0.06544624  0.05563306 ... -0.05469994  0.00990371\n",
      "   0.03593857]\n",
      " ...\n",
      " [-0.03689339 -0.03231623  0.02224629 ...  0.03027458  0.03328106\n",
      "   0.02344458]\n",
      " [ 0.04445826 -0.04597376  0.04472021 ...  0.00134477  0.00602937\n",
      "   0.0187114 ]\n",
      " [ 0.03419255  0.00320629  0.04187601 ... -0.01281732 -0.03971042\n",
      "  -0.00735135]]\n",
      "<NDArray 128x8 @cpu(0)>\n",
      "\n",
      "[0. 0. 0. 0. 0. 0. 0. 0. 0. 0. 0. 0. 0. 0. 0. 0. 0. 0. 0. 0. 0. 0. 0. 0.\n",
      " 0. 0. 0. 0. 0. 0. 0. 0. 0. 0. 0. 0. 0. 0. 0. 0. 0. 0. 0. 0. 0. 0. 0. 0.\n",
      " 0. 0. 0. 0. 0. 0. 0. 0. 0. 0. 0. 0. 0. 0. 0. 0. 0. 0. 0. 0. 0. 0. 0. 0.\n",
      " 0. 0. 0. 0. 0. 0. 0. 0. 0. 0. 0. 0. 0. 0. 0. 0. 0. 0. 0. 0. 0. 0. 0. 0.\n",
      " 0. 0. 0. 0. 0. 0. 0. 0. 0. 0. 0. 0. 0. 0. 0. 0. 0. 0. 0. 0. 0. 0. 0. 0.\n",
      " 0. 0. 0. 0. 0. 0. 0. 0.]\n",
      "<NDArray 128 @cpu(0)>\n",
      "\n",
      "[[ 0.04951349  0.02863395 -0.04754012 ...  0.06590026  0.05881604\n",
      "   0.03040063]\n",
      " [ 0.04640231 -0.04205636  0.05905839 ...  0.04971831  0.02516066\n",
      "  -0.01115363]\n",
      " [ 0.05103311  0.03120565 -0.0200976  ... -0.02825658  0.04250923\n",
      "   0.06092788]\n",
      " ...\n",
      " [-0.0475269   0.0314631  -0.05451345 ... -0.03603229  0.02192847\n",
      "   0.03656596]\n",
      " [ 0.06422932  0.03479558 -0.00169794 ...  0.00142065  0.06922977\n",
      "  -0.05934067]\n",
      " [ 0.03922384 -0.04478501 -0.01728752 ...  0.06815996 -0.04887498\n",
      "   0.05858558]]\n",
      "<NDArray 10x128 @cpu(0)>\n"
     ]
    },
    {
     "name": "stderr",
     "output_type": "stream",
     "text": [
      "/home/wk/anaconda3/lib/python3.6/site-packages/mxnet/gluon/parameter.py:320: UserWarning: Parameter sequential23_dense0_weight is already initialized, ignoring. Set force_reinit=True to re-initialize.\n",
      "  \"Set force_reinit=True to re-initialize.\"%self.name)\n",
      "/home/wk/anaconda3/lib/python3.6/site-packages/mxnet/gluon/parameter.py:320: UserWarning: Parameter sequential23_dense0_bias is already initialized, ignoring. Set force_reinit=True to re-initialize.\n",
      "  \"Set force_reinit=True to re-initialize.\"%self.name)\n",
      "/home/wk/anaconda3/lib/python3.6/site-packages/mxnet/gluon/parameter.py:320: UserWarning: Parameter sequential23_dense1_weight is already initialized, ignoring. Set force_reinit=True to re-initialize.\n",
      "  \"Set force_reinit=True to re-initialize.\"%self.name)\n",
      "/home/wk/anaconda3/lib/python3.6/site-packages/mxnet/gluon/parameter.py:320: UserWarning: Parameter sequential23_dense1_bias is already initialized, ignoring. Set force_reinit=True to re-initialize.\n",
      "  \"Set force_reinit=True to re-initialize.\"%self.name)\n"
     ]
    }
   ],
   "source": [
    "net.initialize()\n",
    "y = net(nd.random.uniform(shape=(4,8)))\n",
    "# print(y)\n",
    "y.mean()\n",
    "param = net.collect_params()\n",
    "print(param.keys())\n",
    "print(param.get('dense0_weight').data())\n",
    "print(param.get('dense0_bias').data())\n",
    "print(param.get('dense1_weight').data())"
   ]
  },
  {
   "cell_type": "code",
   "execution_count": 198,
   "metadata": {},
   "outputs": [
    {
     "data": {
      "text/plain": [
       "(\n",
       " [[-0.04125438 -0.06554382 -0.01985936]\n",
       "  [-0.04728559 -0.00772712  0.05879719]\n",
       "  [-0.01851068  0.0688391  -0.04979665]]\n",
       " <NDArray 3x3 @cpu(0)>, \n",
       " [[0. 0. 0.]\n",
       "  [0. 0. 0.]\n",
       "  [0. 0. 0.]]\n",
       " <NDArray 3x3 @cpu(0)>)"
      ]
     },
     "execution_count": 198,
     "metadata": {},
     "output_type": "execute_result"
    }
   ],
   "source": [
    "my_param = gluon.Parameter(\"wk_test\",shape = (3,3))\n",
    "my_param.initialize()\n",
    "(my_param.data(),my_param.grad())"
   ]
  },
  {
   "cell_type": "code",
   "execution_count": 202,
   "metadata": {},
   "outputs": [
    {
     "ename": "KeyError",
     "evalue": "'shape'",
     "output_type": "error",
     "traceback": [
      "\u001b[0;31m---------------------------------------------------------------------------\u001b[0m",
      "\u001b[0;31mKeyError\u001b[0m                                  Traceback (most recent call last)",
      "\u001b[0;32m~/anaconda3/lib/python3.6/site-packages/IPython/core/formatters.py\u001b[0m in \u001b[0;36m__call__\u001b[0;34m(self, obj)\u001b[0m\n\u001b[1;32m    691\u001b[0m                 \u001b[0mtype_pprinters\u001b[0m\u001b[0;34m=\u001b[0m\u001b[0mself\u001b[0m\u001b[0;34m.\u001b[0m\u001b[0mtype_printers\u001b[0m\u001b[0;34m,\u001b[0m\u001b[0;34m\u001b[0m\u001b[0m\n\u001b[1;32m    692\u001b[0m                 deferred_pprinters=self.deferred_printers)\n\u001b[0;32m--> 693\u001b[0;31m             \u001b[0mprinter\u001b[0m\u001b[0;34m.\u001b[0m\u001b[0mpretty\u001b[0m\u001b[0;34m(\u001b[0m\u001b[0mobj\u001b[0m\u001b[0;34m)\u001b[0m\u001b[0;34m\u001b[0m\u001b[0m\n\u001b[0m\u001b[1;32m    694\u001b[0m             \u001b[0mprinter\u001b[0m\u001b[0;34m.\u001b[0m\u001b[0mflush\u001b[0m\u001b[0;34m(\u001b[0m\u001b[0;34m)\u001b[0m\u001b[0;34m\u001b[0m\u001b[0m\n\u001b[1;32m    695\u001b[0m             \u001b[0;32mreturn\u001b[0m \u001b[0mstream\u001b[0m\u001b[0;34m.\u001b[0m\u001b[0mgetvalue\u001b[0m\u001b[0;34m(\u001b[0m\u001b[0;34m)\u001b[0m\u001b[0;34m\u001b[0m\u001b[0m\n",
      "\u001b[0;32m~/anaconda3/lib/python3.6/site-packages/IPython/lib/pretty.py\u001b[0m in \u001b[0;36mpretty\u001b[0;34m(self, obj)\u001b[0m\n\u001b[1;32m    378\u001b[0m                             \u001b[0;32mif\u001b[0m \u001b[0mcallable\u001b[0m\u001b[0;34m(\u001b[0m\u001b[0mmeth\u001b[0m\u001b[0;34m)\u001b[0m\u001b[0;34m:\u001b[0m\u001b[0;34m\u001b[0m\u001b[0m\n\u001b[1;32m    379\u001b[0m                                 \u001b[0;32mreturn\u001b[0m \u001b[0mmeth\u001b[0m\u001b[0;34m(\u001b[0m\u001b[0mobj\u001b[0m\u001b[0;34m,\u001b[0m \u001b[0mself\u001b[0m\u001b[0;34m,\u001b[0m \u001b[0mcycle\u001b[0m\u001b[0;34m)\u001b[0m\u001b[0;34m\u001b[0m\u001b[0m\n\u001b[0;32m--> 380\u001b[0;31m             \u001b[0;32mreturn\u001b[0m \u001b[0m_default_pprint\u001b[0m\u001b[0;34m(\u001b[0m\u001b[0mobj\u001b[0m\u001b[0;34m,\u001b[0m \u001b[0mself\u001b[0m\u001b[0;34m,\u001b[0m \u001b[0mcycle\u001b[0m\u001b[0;34m)\u001b[0m\u001b[0;34m\u001b[0m\u001b[0m\n\u001b[0m\u001b[1;32m    381\u001b[0m         \u001b[0;32mfinally\u001b[0m\u001b[0;34m:\u001b[0m\u001b[0;34m\u001b[0m\u001b[0m\n\u001b[1;32m    382\u001b[0m             \u001b[0mself\u001b[0m\u001b[0;34m.\u001b[0m\u001b[0mend_group\u001b[0m\u001b[0;34m(\u001b[0m\u001b[0;34m)\u001b[0m\u001b[0;34m\u001b[0m\u001b[0m\n",
      "\u001b[0;32m~/anaconda3/lib/python3.6/site-packages/IPython/lib/pretty.py\u001b[0m in \u001b[0;36m_default_pprint\u001b[0;34m(obj, p, cycle)\u001b[0m\n\u001b[1;32m    493\u001b[0m     \u001b[0;32mif\u001b[0m \u001b[0m_safe_getattr\u001b[0m\u001b[0;34m(\u001b[0m\u001b[0mklass\u001b[0m\u001b[0;34m,\u001b[0m \u001b[0;34m'__repr__'\u001b[0m\u001b[0;34m,\u001b[0m \u001b[0;32mNone\u001b[0m\u001b[0;34m)\u001b[0m \u001b[0;32mis\u001b[0m \u001b[0;32mnot\u001b[0m \u001b[0mobject\u001b[0m\u001b[0;34m.\u001b[0m\u001b[0m__repr__\u001b[0m\u001b[0;34m:\u001b[0m\u001b[0;34m\u001b[0m\u001b[0m\n\u001b[1;32m    494\u001b[0m         \u001b[0;31m# A user-provided repr. Find newlines and replace them with p.break_()\u001b[0m\u001b[0;34m\u001b[0m\u001b[0;34m\u001b[0m\u001b[0m\n\u001b[0;32m--> 495\u001b[0;31m         \u001b[0m_repr_pprint\u001b[0m\u001b[0;34m(\u001b[0m\u001b[0mobj\u001b[0m\u001b[0;34m,\u001b[0m \u001b[0mp\u001b[0m\u001b[0;34m,\u001b[0m \u001b[0mcycle\u001b[0m\u001b[0;34m)\u001b[0m\u001b[0;34m\u001b[0m\u001b[0m\n\u001b[0m\u001b[1;32m    496\u001b[0m         \u001b[0;32mreturn\u001b[0m\u001b[0;34m\u001b[0m\u001b[0m\n\u001b[1;32m    497\u001b[0m     \u001b[0mp\u001b[0m\u001b[0;34m.\u001b[0m\u001b[0mbegin_group\u001b[0m\u001b[0;34m(\u001b[0m\u001b[0;36m1\u001b[0m\u001b[0;34m,\u001b[0m \u001b[0;34m'<'\u001b[0m\u001b[0;34m)\u001b[0m\u001b[0;34m\u001b[0m\u001b[0m\n",
      "\u001b[0;32m~/anaconda3/lib/python3.6/site-packages/IPython/lib/pretty.py\u001b[0m in \u001b[0;36m_repr_pprint\u001b[0;34m(obj, p, cycle)\u001b[0m\n\u001b[1;32m    691\u001b[0m     \u001b[0;34m\"\"\"A pprint that just redirects to the normal repr function.\"\"\"\u001b[0m\u001b[0;34m\u001b[0m\u001b[0m\n\u001b[1;32m    692\u001b[0m     \u001b[0;31m# Find newlines and replace them with p.break_()\u001b[0m\u001b[0;34m\u001b[0m\u001b[0;34m\u001b[0m\u001b[0m\n\u001b[0;32m--> 693\u001b[0;31m     \u001b[0moutput\u001b[0m \u001b[0;34m=\u001b[0m \u001b[0mrepr\u001b[0m\u001b[0;34m(\u001b[0m\u001b[0mobj\u001b[0m\u001b[0;34m)\u001b[0m\u001b[0;34m\u001b[0m\u001b[0m\n\u001b[0m\u001b[1;32m    694\u001b[0m     \u001b[0;32mfor\u001b[0m \u001b[0midx\u001b[0m\u001b[0;34m,\u001b[0m\u001b[0moutput_line\u001b[0m \u001b[0;32min\u001b[0m \u001b[0menumerate\u001b[0m\u001b[0;34m(\u001b[0m\u001b[0moutput\u001b[0m\u001b[0;34m.\u001b[0m\u001b[0msplitlines\u001b[0m\u001b[0;34m(\u001b[0m\u001b[0;34m)\u001b[0m\u001b[0;34m)\u001b[0m\u001b[0;34m:\u001b[0m\u001b[0;34m\u001b[0m\u001b[0m\n\u001b[1;32m    695\u001b[0m         \u001b[0;32mif\u001b[0m \u001b[0midx\u001b[0m\u001b[0;34m:\u001b[0m\u001b[0;34m\u001b[0m\u001b[0m\n",
      "\u001b[0;32m~/anaconda3/lib/python3.6/site-packages/mxnet/gluon/parameter.py\u001b[0m in \u001b[0;36m__repr__\u001b[0;34m(self)\u001b[0m\n\u001b[1;32m    482\u001b[0m         return s.format(name=name,\n\u001b[1;32m    483\u001b[0m                         content='\\n'.join([_indent('  {0}'.format(v), 2)\n\u001b[0;32m--> 484\u001b[0;31m                                            for v in self.values()]))\n\u001b[0m\u001b[1;32m    485\u001b[0m \u001b[0;34m\u001b[0m\u001b[0m\n\u001b[1;32m    486\u001b[0m     \u001b[0;32mdef\u001b[0m \u001b[0m__getitem__\u001b[0m\u001b[0;34m(\u001b[0m\u001b[0mself\u001b[0m\u001b[0;34m,\u001b[0m \u001b[0mkey\u001b[0m\u001b[0;34m)\u001b[0m\u001b[0;34m:\u001b[0m\u001b[0;34m\u001b[0m\u001b[0m\n",
      "\u001b[0;32m~/anaconda3/lib/python3.6/site-packages/mxnet/gluon/parameter.py\u001b[0m in \u001b[0;36m<listcomp>\u001b[0;34m(.0)\u001b[0m\n\u001b[1;32m    482\u001b[0m         return s.format(name=name,\n\u001b[1;32m    483\u001b[0m                         content='\\n'.join([_indent('  {0}'.format(v), 2)\n\u001b[0;32m--> 484\u001b[0;31m                                            for v in self.values()]))\n\u001b[0m\u001b[1;32m    485\u001b[0m \u001b[0;34m\u001b[0m\u001b[0m\n\u001b[1;32m    486\u001b[0m     \u001b[0;32mdef\u001b[0m \u001b[0m__getitem__\u001b[0m\u001b[0;34m(\u001b[0m\u001b[0mself\u001b[0m\u001b[0;34m,\u001b[0m \u001b[0mkey\u001b[0m\u001b[0;34m)\u001b[0m\u001b[0;34m:\u001b[0m\u001b[0;34m\u001b[0m\u001b[0m\n",
      "\u001b[0;32m~/anaconda3/lib/python3.6/site-packages/mxnet/gluon/parameter.py\u001b[0m in \u001b[0;36m__repr__\u001b[0;34m(self)\u001b[0m\n\u001b[1;32m    118\u001b[0m     \u001b[0;32mdef\u001b[0m \u001b[0m__repr__\u001b[0m\u001b[0;34m(\u001b[0m\u001b[0mself\u001b[0m\u001b[0;34m)\u001b[0m\u001b[0;34m:\u001b[0m\u001b[0;34m\u001b[0m\u001b[0m\n\u001b[1;32m    119\u001b[0m         \u001b[0ms\u001b[0m \u001b[0;34m=\u001b[0m \u001b[0;34m'Parameter {name} (shape={shape}, dtype={dtype})'\u001b[0m\u001b[0;34m\u001b[0m\u001b[0m\n\u001b[0;32m--> 120\u001b[0;31m         \u001b[0;32mreturn\u001b[0m \u001b[0ms\u001b[0m\u001b[0;34m.\u001b[0m\u001b[0mformat\u001b[0m\u001b[0;34m(\u001b[0m\u001b[0;34m**\u001b[0m\u001b[0mself\u001b[0m\u001b[0;34m.\u001b[0m\u001b[0m__dict__\u001b[0m\u001b[0;34m)\u001b[0m\u001b[0;34m\u001b[0m\u001b[0m\n\u001b[0m\u001b[1;32m    121\u001b[0m \u001b[0;34m\u001b[0m\u001b[0m\n\u001b[1;32m    122\u001b[0m     \u001b[0;34m@\u001b[0m\u001b[0mproperty\u001b[0m\u001b[0;34m\u001b[0m\u001b[0m\n",
      "\u001b[0;31mKeyError\u001b[0m: 'shape'"
     ]
    }
   ],
   "source": [
    "pd = gluon.ParameterDict(prefix=\"block1_\")\n",
    "pd.get(\"wk_test\",shape=(3,3))\n",
    "pd"
   ]
  },
  {
   "cell_type": "code",
   "execution_count": null,
   "metadata": {
    "collapsed": true
   },
   "outputs": [],
   "source": []
  }
 ],
 "metadata": {
  "kernelspec": {
   "display_name": "Python 3",
   "language": "python",
   "name": "python3"
  },
  "language_info": {
   "codemirror_mode": {
    "name": "ipython",
    "version": 3
   },
   "file_extension": ".py",
   "mimetype": "text/x-python",
   "name": "python",
   "nbconvert_exporter": "python",
   "pygments_lexer": "ipython3",
   "version": "3.6.3"
  }
 },
 "nbformat": 4,
 "nbformat_minor": 2
}
