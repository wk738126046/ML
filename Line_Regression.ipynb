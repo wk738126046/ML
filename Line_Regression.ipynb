{
 "cells": [
  {
   "cell_type": "code",
   "execution_count": 1,
   "metadata": {},
   "outputs": [],
   "source": [
    "import mxnet as mx\n",
    "from mxnet.gluon import nn\n",
    "from mxnet import ndarray as nd\n",
    "from mxnet import gluon\n",
    "from mxnet import autograd"
   ]
  },
  {
   "cell_type": "code",
   "execution_count": 35,
   "metadata": {},
   "outputs": [],
   "source": [
    "w_true = 4.22\n",
    "b_true = 3.82\n",
    "x = nd.random_normal(shape=(1000))\n",
    "y = w_true*x[:] + b_true\n",
    "y +=  .1*nd.random_normal(shape=y.shape)\n",
    "# y"
   ]
  },
  {
   "cell_type": "code",
   "execution_count": 36,
   "metadata": {},
   "outputs": [],
   "source": [
    "# from matplotlib import pyplot as plt\n",
    "# plt.subplot(111)\n",
    "# plt.plot(x.asnumpy(),y.asnumpy())"
   ]
  },
  {
   "cell_type": "code",
   "execution_count": 135,
   "metadata": {},
   "outputs": [
    {
     "data": {
      "text/plain": [
       "\n",
       "[ 3.81992483  4.22192287]\n",
       "<NDArray 2 @cpu(0)>"
      ]
     },
     "execution_count": 135,
     "metadata": {},
     "output_type": "execute_result"
    }
   ],
   "source": [
    "#采用正规方程解法 x = (X.T*X)^(-1)*X.T*Y,X为vector（n行1列）的组合（x1,x2,x3...）\n",
    "import numpy as np\n",
    "# s = list(x[:].asnumpy())\n",
    "s = nd.ones((1000,2))\n",
    "for i,value in enumerate(x[:]):\n",
    "    s[i][1] = value\n",
    "# print(s)\n",
    "st = s.T\n",
    "result0 = nd.dot(st,s)\n",
    "result1 = np.linalg.pinv(result0.asnumpy())\n",
    "result2 = nd.dot(nd.array(result1),st)\n",
    "result = nd.dot(result2,y)\n",
    "result\n",
    "\n",
    "\n",
    "\n",
    "\n"
   ]
  },
  {
   "cell_type": "code",
   "execution_count": 4,
   "metadata": {},
   "outputs": [],
   "source": [
    "# 1. load batch_size data(random)\n",
    "batch_size = 10\n",
    "dataset = gluon.data.ArrayDataset(x, y)\n",
    "data_iter = gluon.data.DataLoader(dataset,batch_size=batch_size,shuffle=True)\n"
   ]
  },
  {
   "cell_type": "code",
   "execution_count": 5,
   "metadata": {},
   "outputs": [
    {
     "data": {
      "text/plain": [
       "Sequential(\n",
       "  (0): Dense(None -> 1, linear)\n",
       ")"
      ]
     },
     "execution_count": 5,
     "metadata": {},
     "output_type": "execute_result"
    }
   ],
   "source": [
    "#2. define model\n",
    "net = nn.Sequential()\n",
    "net.add(nn.Dense(1))\n",
    "net"
   ]
  },
  {
   "cell_type": "code",
   "execution_count": 6,
   "metadata": {},
   "outputs": [],
   "source": [
    "#3. net init\n",
    "net.initialize()"
   ]
  },
  {
   "cell_type": "code",
   "execution_count": 7,
   "metadata": {},
   "outputs": [],
   "source": [
    "#4. define loss\n",
    "L2_loss = gluon.loss.L2Loss()"
   ]
  },
  {
   "cell_type": "code",
   "execution_count": 8,
   "metadata": {},
   "outputs": [],
   "source": [
    "#5. train function\n",
    "trainer = gluon.Trainer(net.collect_params(),'sgd',{'learning_rate': 0.1})\n"
   ]
  },
  {
   "cell_type": "code",
   "execution_count": 9,
   "metadata": {},
   "outputs": [
    {
     "name": "stdout",
     "output_type": "stream",
     "text": [
      "Epoch 0, average loss: 0.883530\n",
      "Epoch 1, average loss: 0.005089\n",
      "Epoch 2, average loss: 0.005129\n",
      "Epoch 3, average loss: 0.005118\n",
      "Epoch 4, average loss: 0.005077\n"
     ]
    }
   ],
   "source": [
    "#6. train\n",
    "epoches = 5\n",
    "for epoch in range(epoches):\n",
    "    total_loss = 0\n",
    "    for data,label in data_iter:\n",
    "        with autograd.record():\n",
    "            output = net(data)\n",
    "            loss = L2_loss(output, label)\n",
    "        loss.backward()\n",
    "        trainer.step(batch_size)\n",
    "        total_loss += nd.sum(loss).asscalar()\n",
    "    print(\"Epoch %d, average loss: %f\" % (epoch, total_loss/1000.0))\n",
    "    \n",
    "    \n",
    "            "
   ]
  },
  {
   "cell_type": "code",
   "execution_count": 10,
   "metadata": {},
   "outputs": [
    {
     "data": {
      "text/plain": [
       "sequential0_ (\n",
       "  Parameter dense0_weight (shape=(1, 1), dtype=<class 'numpy.float32'>)\n",
       "  Parameter dense0_bias (shape=(1,), dtype=<class 'numpy.float32'>)\n",
       ")"
      ]
     },
     "execution_count": 10,
     "metadata": {},
     "output_type": "execute_result"
    }
   ],
   "source": [
    "value = net.collect_params()\n",
    "value"
   ]
  },
  {
   "cell_type": "code",
   "execution_count": 11,
   "metadata": {},
   "outputs": [
    {
     "name": "stdout",
     "output_type": "stream",
     "text": [
      "\n",
      "[[ 4.21179056]]\n",
      "<NDArray 1x1 @cpu(0)>\n",
      "\n",
      "[ 3.82565498]\n",
      "<NDArray 1 @cpu(0)>\n"
     ]
    },
    {
     "data": {
      "text/plain": [
       "(4.22, 3.82)"
      ]
     },
     "execution_count": 11,
     "metadata": {},
     "output_type": "execute_result"
    }
   ],
   "source": [
    "dense = net[0]\n",
    "print(dense.weight.data())\n",
    "print(dense.bias.data())\n",
    "w_true,b_true"
   ]
  },
  {
   "cell_type": "code",
   "execution_count": null,
   "metadata": {},
   "outputs": [],
   "source": []
  },
  {
   "cell_type": "code",
   "execution_count": null,
   "metadata": {},
   "outputs": [],
   "source": []
  }
 ],
 "metadata": {
  "kernelspec": {
   "display_name": "Python 3",
   "language": "python",
   "name": "python3"
  },
  "language_info": {
   "codemirror_mode": {
    "name": "ipython",
    "version": 3
   },
   "file_extension": ".py",
   "mimetype": "text/x-python",
   "name": "python",
   "nbconvert_exporter": "python",
   "pygments_lexer": "ipython3",
   "version": "3.6.4"
  }
 },
 "nbformat": 4,
 "nbformat_minor": 2
}
