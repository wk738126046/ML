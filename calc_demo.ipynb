{
 "cells": [
  {
   "cell_type": "code",
   "execution_count": 111,
   "metadata": {},
   "outputs": [],
   "source": [
    "import numpy as np\n",
    "import matplotlib.pyplot as plt\n"
   ]
  },
  {
   "cell_type": "code",
   "execution_count": 268,
   "metadata": {},
   "outputs": [],
   "source": [
    "w_true = [4.32,1,28]\n",
    "x=[1,1]\n",
    "b_true = 2.2\n",
    "x_true = np.random.randn(1000,2)\n",
    "y = x_true[:,0]*w_true[0]+x_true[:,1]*w_true[1]+b_true\n",
    "# y += .01*np.random.randn(1000)\n",
    "\n",
    "\n"
   ]
  },
  {
   "cell_type": "code",
   "execution_count": 269,
   "metadata": {},
   "outputs": [
    {
     "data": {
      "text/plain": [
       "[<matplotlib.lines.Line2D at 0x7f8ab96aacf8>]"
      ]
     },
     "execution_count": 269,
     "metadata": {},
     "output_type": "execute_result"
    },
    {
     "data": {
      "image/png": "[encoded data removed]",
      "text/plain": [
       "<Figure size 432x288 with 1 Axes>"
      ]
     },
     "metadata": {},
     "output_type": "display_data"
    }
   ],
   "source": [
    "plt.scatter(x_true[:,0],y)\n",
    "plt.plot(x_true[:,0],x_true[:,0]*4.13+2,'r')"
   ]
  },
  {
   "cell_type": "code",
   "execution_count": 275,
   "metadata": {},
   "outputs": [
    {
     "name": "stdout",
     "output_type": "stream",
     "text": [
      "[-0.93733388 -0.05749716 -0.42922938 -0.77219618 -2.22965584 -1.16890197\n",
      "  2.05836551 -2.13542056  2.06713576  0.36591316] [  1.78918262   8.97663514   7.52467917  13.41587745   0.91956503\n",
      "   1.91847105  -0.39444855   3.21711429   6.99612406   4.16685262]\n",
      "(10,)\n"
     ]
    }
   ],
   "source": [
    "import random\n",
    "batch = 10\n",
    "idx = list(range(1000))\n",
    "random.shuffle(idx)\n",
    "def data_iter():\n",
    "    for i in range(0,1000,10):\n",
    "        j = np.array(idx[i:min(i+10,1000)])\n",
    "        yield np.take(x_true,j),np.take(y,j)\n",
    "for data,label in data_iter():\n",
    "    print(data,label)\n",
    "    print(data.shape)\n",
    "    break\n",
    "\n",
    "\n",
    "\n"
   ]
  },
  {
   "cell_type": "code",
   "execution_count": 302,
   "metadata": {},
   "outputs": [
    {
     "name": "stdout",
     "output_type": "stream",
     "text": [
      "3--2.22\n"
     ]
    },
    {
     "data": {
      "image/png": "[encoded data removed]",
      "text/plain": [
       "<Figure size 432x288 with 2 Axes>"
      ]
     },
     "metadata": {},
     "output_type": "display_data"
    }
   ],
   "source": [
    "f,(fig1,fig2) = plt.subplots(1,2)\n",
    "print('{:d}--{:.2f}'.format(3,2.22))"
   ]
  },
  {
   "cell_type": "code",
   "execution_count": 326,
   "metadata": {},
   "outputs": [],
   "source": [
    "w_true = [4,21,-8.1]\n",
    "b_true = 2.2\n",
    "def data(w_true,b_true):\n",
    "    x_true = nd.random_normal(shape=(1000,2))\n",
    "    y_true = x_true[:,0]*w_true[0]+x_true[:,1]*w_true[1]+b_true\n",
    "    print(y_true.shape)\n",
    "    y_train = y_true + nd.random_normal(shape=y_true.shape)\n",
    "    return x_true,y_train"
   ]
  },
  {
   "cell_type": "code",
   "execution_count": 360,
   "metadata": {},
   "outputs": [
    {
     "name": "stdout",
     "output_type": "stream",
     "text": [
      "\n",
      "[[ 1.          7.38905621]\n",
      " [ 2.71828175  7.38905621]]\n",
      "<NDArray 2x2 @cpu(0)>\n"
     ]
    },
    {
     "data": {
      "text/plain": [
       "\n",
       "[[  8.38905621]\n",
       " [ 10.10733795]]\n",
       "<NDArray 2x1 @cpu(0)>"
      ]
     },
     "execution_count": 360,
     "metadata": {},
     "output_type": "execute_result"
    }
   ],
   "source": [
    "\n",
    "e = nd.exp(a)\n",
    "print(e)\n",
    "e.sum(axis=1,keepdims=True)"
   ]
  },
  {
   "cell_type": "code",
   "execution_count": 396,
   "metadata": {},
   "outputs": [
    {
     "data": {
      "text/plain": [
       "\n",
       "[ 0.5]\n",
       "<NDArray 1 @cpu(0)>"
      ]
     },
     "execution_count": 396,
     "metadata": {},
     "output_type": "execute_result"
    }
   ],
   "source": [
    "nd.pick(e,nd.array([0,0]))\n",
    "b = nd.array([3,2])\n",
    "c = nd.array([3,3])\n",
    "nd.mean(b==c)"
   ]
  },
  {
   "cell_type": "code",
   "execution_count": 421,
   "metadata": {},
   "outputs": [
    {
     "data": {
      "text/plain": [
       "\n",
       "[ 1.]\n",
       "<NDArray 1 @cpu(0)>"
      ]
     },
     "execution_count": 421,
     "metadata": {},
     "output_type": "execute_result"
    }
   ],
   "source": [
    "s = [[  9.98876631e-01 ,  7.51650520e-10 ,  2.74928058e-09,4.65484336e-05,\n",
    "    7.63823380e-11 ,  9.55138732e-19 ,  1.07682450e-03 ,  6.07660402e-18,\n",
    "    3.68363543e-12  , 2.48736985e-13]]\n",
    "nd.argmax(nd.array(s),axis=1)\n",
    "nd.sum(nd.array(s))"
   ]
  },
  {
   "cell_type": "code",
   "execution_count": 514,
   "metadata": {},
   "outputs": [
    {
     "data": {
      "text/plain": [
       "(2,)"
      ]
     },
     "execution_count": 514,
     "metadata": {},
     "output_type": "execute_result"
    }
   ],
   "source": [
    "nd.random_normal(shape=(2,2),scale=1)\n",
    "nd.zeros(2).shape\n",
    "nd.array([1,1]).shape"
   ]
  },
  {
   "cell_type": "code",
   "execution_count": 540,
   "metadata": {},
   "outputs": [
    {
     "name": "stdout",
     "output_type": "stream",
     "text": [
      "\n",
      "[[ 0.4852418  -1.05596542 -0.93991619]\n",
      " [-0.17735361  0.45332772 -0.16727619]]\n",
      "<NDArray 2x3 @cpu(0)>\n"
     ]
    },
    {
     "data": {
      "text/plain": [
       "\n",
       "[[ 0.         -1.05596542 -0.93991619]\n",
       " [-0.17735361  0.         -0.16727619]]\n",
       "<NDArray 2x3 @cpu(0)>"
      ]
     },
     "execution_count": 540,
     "metadata": {},
     "output_type": "execute_result"
    }
   ],
   "source": [
    "s = nd.random.normal(shape=(2,3))\n",
    "print(s)\n",
    "s*(s<0)"
   ]
  },
  {
   "cell_type": "code",
   "execution_count": 546,
   "metadata": {},
   "outputs": [
    {
     "data": {
      "text/plain": [
       "\n",
       "[[ 0.4852418  -1.05596542 -0.93991619  0.4852418  -1.05596542 -0.93991619]\n",
       " [-0.17735361  0.45332772 -0.16727619 -0.17735361  0.45332772 -0.16727619]]\n",
       "<NDArray 2x6 @cpu(0)>"
      ]
     },
     "execution_count": 546,
     "metadata": {},
     "output_type": "execute_result"
    }
   ],
   "source": [
    "nd.concat(s,s,dim=1)"
   ]
  },
  {
   "cell_type": "code",
   "execution_count": 645,
   "metadata": {},
   "outputs": [
    {
     "data": {
      "text/plain": [
       "Text(0,1,'tes')"
      ]
     },
     "execution_count": 645,
     "metadata": {},
     "output_type": "execute_result"
    },
    {
     "data": {
      "image/png": "[encoded data removed]",
      "text/plain": [
       "<Figure size 432x288 with 3 Axes>"
      ]
     },
     "metadata": {},
     "output_type": "display_data"
    }
   ],
   "source": [
    "fig,(fig1,fig2,fig3)= plt.subplots(1,3)\n",
    "fig1.plot(list(range(100)))\n",
    "fig1.legend(['test'])\n",
    "fig1.set_title('tes',loc='left')"
   ]
  },
  {
   "cell_type": "code",
   "execution_count": 629,
   "metadata": {},
   "outputs": [],
   "source": [
    "s =nd.array([0.01*i for i in range(10)])+1\n",
    "len(nd.random_normal(shape=s.shape))\n",
    "y = nd.ones(shape=(3,2))\n",
    "yhat = nd.array([[1,2,3],[11,22,33]])"
   ]
  },
  {
   "cell_type": "code",
   "execution_count": 632,
   "metadata": {},
   "outputs": [
    {
     "data": {
      "text/plain": [
       "(3, 2)"
      ]
     },
     "execution_count": 632,
     "metadata": {},
     "output_type": "execute_result"
    }
   ],
   "source": [
    "y.shape\n",
    "# y.reshape(yhat.shape)"
   ]
  },
  {
   "cell_type": "code",
   "execution_count": 656,
   "metadata": {},
   "outputs": [
    {
     "name": "stdout",
     "output_type": "stream",
     "text": [
      "\n",
      "[[ 0.27793536  0.17545485  0.31840295  0.47196564]\n",
      " [ 0.7289477   0.60720462  0.56919599  0.17958848]\n",
      " [ 0.78903598  0.54718411  0.83019656  0.73883128]\n",
      " [ 0.84293485  0.66741776  0.41464415  0.63074648]]\n",
      "<NDArray 4x4 @cpu(0)>\n",
      "\n",
      "[[ 1.  1.  1.  1.]\n",
      " [ 0.  0.  0.  1.]\n",
      " [ 0.  0.  0.  0.]\n",
      " [ 0.  0.  1.  0.]]\n",
      "<NDArray 4x4 @cpu(0)>\n"
     ]
    },
    {
     "data": {
      "text/plain": [
       "\n",
       "[[  0.   2.   4.   6.]\n",
       " [  0.   0.   0.  14.]\n",
       " [  0.   0.   0.   0.]\n",
       " [  0.   0.  28.   0.]]\n",
       "<NDArray 4x4 @cpu(0)>"
      ]
     },
     "execution_count": 656,
     "metadata": {},
     "output_type": "execute_result"
    }
   ],
   "source": [
    "def dropout(x,p):\n",
    "    assert 0<=p<=1\n",
    "    s = nd.random.uniform(0,1,x.shape)\n",
    "    print(s)\n",
    "    if p == 0:\n",
    "        return nd.zeros(x.shape)\n",
    "    s = s<p\n",
    "    print(s)\n",
    "    scale = 1/p\n",
    "    return scale*x*s\n",
    "x = nd.arange(16).reshape((4,4))\n",
    "dropout(x,0.5)\n"
   ]
  }
 ],
 "metadata": {
  "kernelspec": {
   "display_name": "Python 3",
   "language": "python",
   "name": "python3"
  },
  "language_info": {
   "codemirror_mode": {
    "name": "ipython",
    "version": 3
   },
   "file_extension": ".py",
   "mimetype": "text/x-python",
   "name": "python",
   "nbconvert_exporter": "python",
   "pygments_lexer": "ipython3",
   "version": "3.6.4"
  }
 },
 "nbformat": 4,
 "nbformat_minor": 2
}
